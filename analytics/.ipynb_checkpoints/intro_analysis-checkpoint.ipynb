{
 "cells": [
  {
   "cell_type": "code",
   "execution_count": 1,
   "metadata": {},
   "outputs": [],
   "source": [
    "import sqlite3\n",
    "import pandas as pd\n",
    "import numpy as np"
   ]
  },
  {
   "cell_type": "code",
   "execution_count": 2,
   "metadata": {},
   "outputs": [],
   "source": [
    "con = sqlite3.connect(\"FPA_FOD_20170508.sqlite\")"
   ]
  },
  {
   "cell_type": "code",
   "execution_count": 3,
   "metadata": {},
   "outputs": [],
   "source": [
    "cursor = con.cursor()\n",
    "# cursor.execute(\"SELECT name FROM sqlite_master WHERE type='table';\")\n",
    "# print(cursor.fetchall())"
   ]
  },
  {
   "cell_type": "code",
   "execution_count": 4,
   "metadata": {},
   "outputs": [],
   "source": [
    "wildfires = pd.read_sql_query(\"SELECT * from Fires where FIRE_SIZE > 100\", con)"
   ]
  },
  {
   "cell_type": "markdown",
   "metadata": {},
   "source": [
    "Lets take a look at the columns of the original data:"
   ]
  },
  {
   "cell_type": "code",
   "execution_count": 5,
   "metadata": {},
   "outputs": [
    {
     "data": {
      "text/plain": [
       "Index(['OBJECTID', 'FOD_ID', 'FPA_ID', 'SOURCE_SYSTEM_TYPE', 'SOURCE_SYSTEM',\n",
       "       'NWCG_REPORTING_AGENCY', 'NWCG_REPORTING_UNIT_ID',\n",
       "       'NWCG_REPORTING_UNIT_NAME', 'SOURCE_REPORTING_UNIT',\n",
       "       'SOURCE_REPORTING_UNIT_NAME', 'LOCAL_FIRE_REPORT_ID',\n",
       "       'LOCAL_INCIDENT_ID', 'FIRE_CODE', 'FIRE_NAME',\n",
       "       'ICS_209_INCIDENT_NUMBER', 'ICS_209_NAME', 'MTBS_ID', 'MTBS_FIRE_NAME',\n",
       "       'COMPLEX_NAME', 'FIRE_YEAR', 'DISCOVERY_DATE', 'DISCOVERY_DOY',\n",
       "       'DISCOVERY_TIME', 'STAT_CAUSE_CODE', 'STAT_CAUSE_DESCR', 'CONT_DATE',\n",
       "       'CONT_DOY', 'CONT_TIME', 'FIRE_SIZE', 'FIRE_SIZE_CLASS', 'LATITUDE',\n",
       "       'LONGITUDE', 'OWNER_CODE', 'OWNER_DESCR', 'STATE', 'COUNTY',\n",
       "       'FIPS_CODE', 'FIPS_NAME', 'Shape'],\n",
       "      dtype='object')"
      ]
     },
     "execution_count": 5,
     "metadata": {},
     "output_type": "execute_result"
    }
   ],
   "source": [
    "wildfires.columns"
   ]
  },
  {
   "cell_type": "markdown",
   "metadata": {},
   "source": [
    "Now create a separate dataframe with just the columns we want:"
   ]
  },
  {
   "cell_type": "code",
   "execution_count": 6,
   "metadata": {},
   "outputs": [],
   "source": [
    "fires = wildfires[[\"FOD_ID\", \"NWCG_REPORTING_UNIT_ID\", \"FIRE_YEAR\", \"DISCOVERY_DOY\", \"STAT_CAUSE_CODE\",\"CONT_DOY\",\"FIRE_SIZE\",\"FIRE_SIZE_CLASS\",\"LATITUDE\",\"LONGITUDE\",\"OWNER_CODE\",\"STATE\"]]"
   ]
  },
  {
   "cell_type": "code",
   "execution_count": 7,
   "metadata": {},
   "outputs": [
    {
     "data": {
      "text/html": [
       "<div>\n",
       "<style scoped>\n",
       "    .dataframe tbody tr th:only-of-type {\n",
       "        vertical-align: middle;\n",
       "    }\n",
       "\n",
       "    .dataframe tbody tr th {\n",
       "        vertical-align: top;\n",
       "    }\n",
       "\n",
       "    .dataframe thead th {\n",
       "        text-align: right;\n",
       "    }\n",
       "</style>\n",
       "<table border=\"1\" class=\"dataframe\">\n",
       "  <thead>\n",
       "    <tr style=\"text-align: right;\">\n",
       "      <th></th>\n",
       "      <th>FOD_ID</th>\n",
       "      <th>NWCG_REPORTING_UNIT_ID</th>\n",
       "      <th>FIRE_YEAR</th>\n",
       "      <th>DISCOVERY_DOY</th>\n",
       "      <th>STAT_CAUSE_CODE</th>\n",
       "      <th>CONT_DOY</th>\n",
       "      <th>FIRE_SIZE</th>\n",
       "      <th>FIRE_SIZE_CLASS</th>\n",
       "      <th>LATITUDE</th>\n",
       "      <th>LONGITUDE</th>\n",
       "      <th>OWNER_CODE</th>\n",
       "      <th>STATE</th>\n",
       "    </tr>\n",
       "  </thead>\n",
       "  <tbody>\n",
       "    <tr>\n",
       "      <th>0</th>\n",
       "      <td>17</td>\n",
       "      <td>USCAENF</td>\n",
       "      <td>2004</td>\n",
       "      <td>280</td>\n",
       "      <td>2.0</td>\n",
       "      <td>295.0</td>\n",
       "      <td>16823.0</td>\n",
       "      <td>G</td>\n",
       "      <td>38.523333</td>\n",
       "      <td>-120.211667</td>\n",
       "      <td>5.0</td>\n",
       "      <td>CA</td>\n",
       "    </tr>\n",
       "    <tr>\n",
       "      <th>1</th>\n",
       "      <td>18</td>\n",
       "      <td>USCAENF</td>\n",
       "      <td>2004</td>\n",
       "      <td>287</td>\n",
       "      <td>2.0</td>\n",
       "      <td>291.0</td>\n",
       "      <td>7700.0</td>\n",
       "      <td>G</td>\n",
       "      <td>38.780000</td>\n",
       "      <td>-120.260000</td>\n",
       "      <td>5.0</td>\n",
       "      <td>CA</td>\n",
       "    </tr>\n",
       "    <tr>\n",
       "      <th>2</th>\n",
       "      <td>40</td>\n",
       "      <td>USNCNCF</td>\n",
       "      <td>2005</td>\n",
       "      <td>43</td>\n",
       "      <td>5.0</td>\n",
       "      <td>44.0</td>\n",
       "      <td>125.0</td>\n",
       "      <td>D</td>\n",
       "      <td>36.001667</td>\n",
       "      <td>-81.590000</td>\n",
       "      <td>14.0</td>\n",
       "      <td>NC</td>\n",
       "    </tr>\n",
       "    <tr>\n",
       "      <th>3</th>\n",
       "      <td>119</td>\n",
       "      <td>USNENBF</td>\n",
       "      <td>2005</td>\n",
       "      <td>197</td>\n",
       "      <td>1.0</td>\n",
       "      <td>198.0</td>\n",
       "      <td>119.0</td>\n",
       "      <td>D</td>\n",
       "      <td>43.899167</td>\n",
       "      <td>-102.954722</td>\n",
       "      <td>5.0</td>\n",
       "      <td>SD</td>\n",
       "    </tr>\n",
       "    <tr>\n",
       "      <th>4</th>\n",
       "      <td>120</td>\n",
       "      <td>USNENBF</td>\n",
       "      <td>2005</td>\n",
       "      <td>197</td>\n",
       "      <td>1.0</td>\n",
       "      <td>197.0</td>\n",
       "      <td>119.0</td>\n",
       "      <td>D</td>\n",
       "      <td>43.892778</td>\n",
       "      <td>-102.948056</td>\n",
       "      <td>5.0</td>\n",
       "      <td>SD</td>\n",
       "    </tr>\n",
       "  </tbody>\n",
       "</table>\n",
       "</div>"
      ],
      "text/plain": [
       "   FOD_ID NWCG_REPORTING_UNIT_ID  FIRE_YEAR  DISCOVERY_DOY  STAT_CAUSE_CODE  \\\n",
       "0      17                USCAENF       2004            280              2.0   \n",
       "1      18                USCAENF       2004            287              2.0   \n",
       "2      40                USNCNCF       2005             43              5.0   \n",
       "3     119                USNENBF       2005            197              1.0   \n",
       "4     120                USNENBF       2005            197              1.0   \n",
       "\n",
       "   CONT_DOY  FIRE_SIZE FIRE_SIZE_CLASS   LATITUDE   LONGITUDE  OWNER_CODE  \\\n",
       "0     295.0    16823.0               G  38.523333 -120.211667         5.0   \n",
       "1     291.0     7700.0               G  38.780000 -120.260000         5.0   \n",
       "2      44.0      125.0               D  36.001667  -81.590000        14.0   \n",
       "3     198.0      119.0               D  43.899167 -102.954722         5.0   \n",
       "4     197.0      119.0               D  43.892778 -102.948056         5.0   \n",
       "\n",
       "  STATE  \n",
       "0    CA  \n",
       "1    CA  \n",
       "2    NC  \n",
       "3    SD  \n",
       "4    SD  "
      ]
     },
     "execution_count": 7,
     "metadata": {},
     "output_type": "execute_result"
    }
   ],
   "source": [
    "fires.head()"
   ]
  },
  {
   "cell_type": "code",
   "execution_count": 8,
   "metadata": {},
   "outputs": [
    {
     "data": {
      "text/plain": [
       "(49797, 12)"
      ]
     },
     "execution_count": 8,
     "metadata": {},
     "output_type": "execute_result"
    }
   ],
   "source": [
    "fires.shape"
   ]
  },
  {
   "cell_type": "markdown",
   "metadata": {},
   "source": [
    "Look at original correlation matrix:"
   ]
  },
  {
   "cell_type": "code",
   "execution_count": 9,
   "metadata": {},
   "outputs": [],
   "source": [
    "corrMatrix = fires.corr()"
   ]
  },
  {
   "cell_type": "code",
   "execution_count": 10,
   "metadata": {},
   "outputs": [],
   "source": [
    "import seaborn as sn\n",
    "import matplotlib.pyplot as plt"
   ]
  },
  {
   "cell_type": "code",
   "execution_count": 11,
   "metadata": {},
   "outputs": [],
   "source": [
    "# sn.heatmap(corrMatrix, annot=True)\n",
    "# plt.show()"
   ]
  },
  {
   "cell_type": "code",
   "execution_count": 12,
   "metadata": {},
   "outputs": [
    {
     "data": {
      "text/plain": [
       "FOD_ID                      int64\n",
       "NWCG_REPORTING_UNIT_ID     object\n",
       "FIRE_YEAR                   int64\n",
       "DISCOVERY_DOY               int64\n",
       "STAT_CAUSE_CODE           float64\n",
       "CONT_DOY                  float64\n",
       "FIRE_SIZE                 float64\n",
       "FIRE_SIZE_CLASS            object\n",
       "LATITUDE                  float64\n",
       "LONGITUDE                 float64\n",
       "OWNER_CODE                float64\n",
       "STATE                      object\n",
       "dtype: object"
      ]
     },
     "execution_count": 12,
     "metadata": {},
     "output_type": "execute_result"
    }
   ],
   "source": [
    "fires.dtypes"
   ]
  },
  {
   "cell_type": "markdown",
   "metadata": {},
   "source": [
    "Start by clustering based on fire size and compare their number of classes to the 'optimal' number found:"
   ]
  },
  {
   "cell_type": "code",
   "execution_count": 13,
   "metadata": {},
   "outputs": [],
   "source": [
    "from sklearn.cluster import KMeans"
   ]
  },
  {
   "cell_type": "code",
   "execution_count": 14,
   "metadata": {},
   "outputs": [],
   "source": [
    "# k means based on size of fires"
   ]
  },
  {
   "cell_type": "code",
   "execution_count": 15,
   "metadata": {},
   "outputs": [],
   "source": [
    "sizes = fires.loc[:,['FOD_ID','FIRE_SIZE']]"
   ]
  },
  {
   "cell_type": "code",
   "execution_count": 16,
   "metadata": {},
   "outputs": [
    {
     "data": {
      "text/html": [
       "<div>\n",
       "<style scoped>\n",
       "    .dataframe tbody tr th:only-of-type {\n",
       "        vertical-align: middle;\n",
       "    }\n",
       "\n",
       "    .dataframe tbody tr th {\n",
       "        vertical-align: top;\n",
       "    }\n",
       "\n",
       "    .dataframe thead th {\n",
       "        text-align: right;\n",
       "    }\n",
       "</style>\n",
       "<table border=\"1\" class=\"dataframe\">\n",
       "  <thead>\n",
       "    <tr style=\"text-align: right;\">\n",
       "      <th></th>\n",
       "      <th>FOD_ID</th>\n",
       "      <th>FIRE_SIZE</th>\n",
       "    </tr>\n",
       "  </thead>\n",
       "  <tbody>\n",
       "    <tr>\n",
       "      <th>0</th>\n",
       "      <td>17</td>\n",
       "      <td>16823.0</td>\n",
       "    </tr>\n",
       "    <tr>\n",
       "      <th>1</th>\n",
       "      <td>18</td>\n",
       "      <td>7700.0</td>\n",
       "    </tr>\n",
       "    <tr>\n",
       "      <th>2</th>\n",
       "      <td>40</td>\n",
       "      <td>125.0</td>\n",
       "    </tr>\n",
       "    <tr>\n",
       "      <th>3</th>\n",
       "      <td>119</td>\n",
       "      <td>119.0</td>\n",
       "    </tr>\n",
       "    <tr>\n",
       "      <th>4</th>\n",
       "      <td>120</td>\n",
       "      <td>119.0</td>\n",
       "    </tr>\n",
       "  </tbody>\n",
       "</table>\n",
       "</div>"
      ],
      "text/plain": [
       "   FOD_ID  FIRE_SIZE\n",
       "0      17    16823.0\n",
       "1      18     7700.0\n",
       "2      40      125.0\n",
       "3     119      119.0\n",
       "4     120      119.0"
      ]
     },
     "execution_count": 16,
     "metadata": {},
     "output_type": "execute_result"
    }
   ],
   "source": [
    "sizes.head()"
   ]
  },
  {
   "cell_type": "code",
   "execution_count": 17,
   "metadata": {},
   "outputs": [],
   "source": [
    "# K_clusters = range(1,10)\n",
    "# kmeans = [KMeans(n_clusters=i) for i in K_clusters]\n",
    "# Y_axis = fires[['FIRE_SIZE']]\n",
    "\n",
    "# score = [kmeans[i].fit(Y_axis).score(Y_axis) for i in range(len(kmeans))]\n",
    "# # Visualize\n",
    "# plt.plot(K_clusters, score)\n",
    "# plt.xlabel('Number of Clusters')\n",
    "# plt.ylabel('Score')\n",
    "# plt.title('Elbow Curve')\n",
    "# plt.show()"
   ]
  },
  {
   "cell_type": "markdown",
   "metadata": {},
   "source": [
    "Based on the elbow curve, lets take 3 as our number of optimal clusters"
   ]
  },
  {
   "cell_type": "code",
   "execution_count": 18,
   "metadata": {},
   "outputs": [
    {
     "data": {
      "text/html": [
       "<div>\n",
       "<style scoped>\n",
       "    .dataframe tbody tr th:only-of-type {\n",
       "        vertical-align: middle;\n",
       "    }\n",
       "\n",
       "    .dataframe tbody tr th {\n",
       "        vertical-align: top;\n",
       "    }\n",
       "\n",
       "    .dataframe thead th {\n",
       "        text-align: right;\n",
       "    }\n",
       "</style>\n",
       "<table border=\"1\" class=\"dataframe\">\n",
       "  <thead>\n",
       "    <tr style=\"text-align: right;\">\n",
       "      <th></th>\n",
       "      <th>FOD_ID</th>\n",
       "      <th>FIRE_SIZE</th>\n",
       "      <th>cluster_label</th>\n",
       "    </tr>\n",
       "  </thead>\n",
       "  <tbody>\n",
       "    <tr>\n",
       "      <th>0</th>\n",
       "      <td>17</td>\n",
       "      <td>16823.0</td>\n",
       "      <td>0</td>\n",
       "    </tr>\n",
       "    <tr>\n",
       "      <th>1</th>\n",
       "      <td>18</td>\n",
       "      <td>7700.0</td>\n",
       "      <td>0</td>\n",
       "    </tr>\n",
       "    <tr>\n",
       "      <th>2</th>\n",
       "      <td>40</td>\n",
       "      <td>125.0</td>\n",
       "      <td>0</td>\n",
       "    </tr>\n",
       "    <tr>\n",
       "      <th>3</th>\n",
       "      <td>119</td>\n",
       "      <td>119.0</td>\n",
       "      <td>0</td>\n",
       "    </tr>\n",
       "    <tr>\n",
       "      <th>4</th>\n",
       "      <td>120</td>\n",
       "      <td>119.0</td>\n",
       "      <td>0</td>\n",
       "    </tr>\n",
       "    <tr>\n",
       "      <th>5</th>\n",
       "      <td>192</td>\n",
       "      <td>16100.0</td>\n",
       "      <td>0</td>\n",
       "    </tr>\n",
       "    <tr>\n",
       "      <th>6</th>\n",
       "      <td>556</td>\n",
       "      <td>1149.0</td>\n",
       "      <td>0</td>\n",
       "    </tr>\n",
       "    <tr>\n",
       "      <th>7</th>\n",
       "      <td>590</td>\n",
       "      <td>1300.0</td>\n",
       "      <td>0</td>\n",
       "    </tr>\n",
       "    <tr>\n",
       "      <th>8</th>\n",
       "      <td>596</td>\n",
       "      <td>730.0</td>\n",
       "      <td>0</td>\n",
       "    </tr>\n",
       "    <tr>\n",
       "      <th>9</th>\n",
       "      <td>597</td>\n",
       "      <td>495.0</td>\n",
       "      <td>0</td>\n",
       "    </tr>\n",
       "  </tbody>\n",
       "</table>\n",
       "</div>"
      ],
      "text/plain": [
       "   FOD_ID  FIRE_SIZE  cluster_label\n",
       "0      17    16823.0              0\n",
       "1      18     7700.0              0\n",
       "2      40      125.0              0\n",
       "3     119      119.0              0\n",
       "4     120      119.0              0\n",
       "5     192    16100.0              0\n",
       "6     556     1149.0              0\n",
       "7     590     1300.0              0\n",
       "8     596      730.0              0\n",
       "9     597      495.0              0"
      ]
     },
     "execution_count": 18,
     "metadata": {},
     "output_type": "execute_result"
    }
   ],
   "source": [
    "kmeans = KMeans(n_clusters = 3, init ='k-means++')\n",
    "kmeans.fit(sizes[sizes.columns[1:2]]) \n",
    "# Compute k-means clustering.\n",
    "sizes['cluster_label'] = kmeans.fit_predict(sizes[sizes.columns[1:2]])\n",
    "centers = kmeans.cluster_centers_ \n",
    "# Coordinates of cluster centers.\n",
    "labels = kmeans.predict(sizes[sizes.columns[1:2]]) \n",
    "# Labels of each point\n",
    "sizes.head(10)"
   ]
  },
  {
   "cell_type": "code",
   "execution_count": 19,
   "metadata": {},
   "outputs": [
    {
     "data": {
      "text/plain": [
       "array([[  1377.21842263],\n",
       "       [289765.45064935],\n",
       "       [ 72500.76655965]])"
      ]
     },
     "execution_count": 19,
     "metadata": {},
     "output_type": "execute_result"
    }
   ],
   "source": [
    "centers"
   ]
  },
  {
   "cell_type": "code",
   "execution_count": 20,
   "metadata": {},
   "outputs": [
    {
     "data": {
      "text/plain": [
       "count     49797.000000\n",
       "mean       2637.260520\n",
       "std       15126.652567\n",
       "min         100.030000\n",
       "25%         160.000000\n",
       "50%         300.000000\n",
       "75%         854.000000\n",
       "max      606945.000000\n",
       "Name: FIRE_SIZE, dtype: float64"
      ]
     },
     "execution_count": 20,
     "metadata": {},
     "output_type": "execute_result"
    }
   ],
   "source": [
    "sizes.FIRE_SIZE.describe()"
   ]
  },
  {
   "cell_type": "markdown",
   "metadata": {},
   "source": [
    "Now lets do a clustering based on location."
   ]
  },
  {
   "cell_type": "code",
   "execution_count": 21,
   "metadata": {},
   "outputs": [],
   "source": [
    "locations = fires.loc[:,['FOD_ID','LATITUDE','LONGITUDE']]"
   ]
  },
  {
   "cell_type": "code",
   "execution_count": 22,
   "metadata": {},
   "outputs": [
    {
     "data": {
      "text/html": [
       "<div>\n",
       "<style scoped>\n",
       "    .dataframe tbody tr th:only-of-type {\n",
       "        vertical-align: middle;\n",
       "    }\n",
       "\n",
       "    .dataframe tbody tr th {\n",
       "        vertical-align: top;\n",
       "    }\n",
       "\n",
       "    .dataframe thead th {\n",
       "        text-align: right;\n",
       "    }\n",
       "</style>\n",
       "<table border=\"1\" class=\"dataframe\">\n",
       "  <thead>\n",
       "    <tr style=\"text-align: right;\">\n",
       "      <th></th>\n",
       "      <th>FOD_ID</th>\n",
       "      <th>LATITUDE</th>\n",
       "      <th>LONGITUDE</th>\n",
       "    </tr>\n",
       "  </thead>\n",
       "  <tbody>\n",
       "    <tr>\n",
       "      <th>0</th>\n",
       "      <td>17</td>\n",
       "      <td>38.523333</td>\n",
       "      <td>-120.211667</td>\n",
       "    </tr>\n",
       "    <tr>\n",
       "      <th>1</th>\n",
       "      <td>18</td>\n",
       "      <td>38.780000</td>\n",
       "      <td>-120.260000</td>\n",
       "    </tr>\n",
       "    <tr>\n",
       "      <th>2</th>\n",
       "      <td>40</td>\n",
       "      <td>36.001667</td>\n",
       "      <td>-81.590000</td>\n",
       "    </tr>\n",
       "    <tr>\n",
       "      <th>3</th>\n",
       "      <td>119</td>\n",
       "      <td>43.899167</td>\n",
       "      <td>-102.954722</td>\n",
       "    </tr>\n",
       "    <tr>\n",
       "      <th>4</th>\n",
       "      <td>120</td>\n",
       "      <td>43.892778</td>\n",
       "      <td>-102.948056</td>\n",
       "    </tr>\n",
       "  </tbody>\n",
       "</table>\n",
       "</div>"
      ],
      "text/plain": [
       "   FOD_ID   LATITUDE   LONGITUDE\n",
       "0      17  38.523333 -120.211667\n",
       "1      18  38.780000 -120.260000\n",
       "2      40  36.001667  -81.590000\n",
       "3     119  43.899167 -102.954722\n",
       "4     120  43.892778 -102.948056"
      ]
     },
     "execution_count": 22,
     "metadata": {},
     "output_type": "execute_result"
    }
   ],
   "source": [
    "locations.head()"
   ]
  },
  {
   "cell_type": "code",
   "execution_count": 23,
   "metadata": {},
   "outputs": [],
   "source": [
    "# K_clusters = range(1,10)\n",
    "# kmeans = [KMeans(n_clusters=i) for i in K_clusters]\n",
    "# Y_axis = fires[['LATITUDE']]\n",
    "# X_axis = fires[['LONGITUDE']]\n",
    "# score = [kmeans[i].fit(Y_axis).score(Y_axis) for i in range(len(kmeans))]\n",
    "# # Visualize\n",
    "# plt.plot(K_clusters, score)\n",
    "# plt.xlabel('Number of Clusters')\n",
    "# plt.ylabel('Score')\n",
    "# plt.title('Elbow Curve')\n",
    "# plt.show()"
   ]
  },
  {
   "cell_type": "markdown",
   "metadata": {},
   "source": [
    "Based on the elbow curve we can do 4 clusters."
   ]
  },
  {
   "cell_type": "code",
   "execution_count": 24,
   "metadata": {},
   "outputs": [],
   "source": [
    "# kmeans = KMeans(n_clusters = 4, init ='k-means++')\n",
    "# kmeans.fit(locations[locations.columns[1:3]]) \n",
    "# # Compute k-means clustering.\n",
    "# locations['cluster_label'] = kmeans.fit_predict(locations[locations.columns[1:3]])\n",
    "# centers = kmeans.cluster_centers_ \n",
    "# # Coordinates of cluster centers.\n",
    "# labels = kmeans.predict(locations[locations.columns[1:3]]) \n",
    "# # Labels of each point\n",
    "# locations.head(10)"
   ]
  },
  {
   "cell_type": "code",
   "execution_count": 25,
   "metadata": {},
   "outputs": [],
   "source": [
    "# locations.plot.scatter(x = 'LONGITUDE', y = 'LATITUDE', c=labels, s=50, cmap='viridis')\n",
    "# plt.scatter(centers[:, 0], centers[:, 1], c='black', s=200, alpha=0.5)"
   ]
  },
  {
   "cell_type": "markdown",
   "metadata": {},
   "source": [
    "The above map does look like the United States."
   ]
  },
  {
   "cell_type": "code",
   "execution_count": 26,
   "metadata": {},
   "outputs": [],
   "source": [
    "# locations = locations[['FOD_ID','cluster_label']]"
   ]
  },
  {
   "cell_type": "markdown",
   "metadata": {},
   "source": [
    "merge clustered locations back in and look at new cluster labels:"
   ]
  },
  {
   "cell_type": "code",
   "execution_count": 27,
   "metadata": {},
   "outputs": [],
   "source": [
    "new_wildfires = fires.merge(locations, left_on='FOD_ID', right_on='FOD_ID')"
   ]
  },
  {
   "cell_type": "code",
   "execution_count": 28,
   "metadata": {},
   "outputs": [],
   "source": [
    "# new_corrMatrix = new_wildfires.corr()\n",
    "# sn.heatmap(new_corrMatrix, annot=True)\n",
    "# plt.show()"
   ]
  },
  {
   "cell_type": "code",
   "execution_count": 29,
   "metadata": {},
   "outputs": [
    {
     "data": {
      "text/html": [
       "<div>\n",
       "<style scoped>\n",
       "    .dataframe tbody tr th:only-of-type {\n",
       "        vertical-align: middle;\n",
       "    }\n",
       "\n",
       "    .dataframe tbody tr th {\n",
       "        vertical-align: top;\n",
       "    }\n",
       "\n",
       "    .dataframe thead th {\n",
       "        text-align: right;\n",
       "    }\n",
       "</style>\n",
       "<table border=\"1\" class=\"dataframe\">\n",
       "  <thead>\n",
       "    <tr style=\"text-align: right;\">\n",
       "      <th></th>\n",
       "      <th>FOD_ID</th>\n",
       "      <th>NWCG_REPORTING_UNIT_ID</th>\n",
       "      <th>FIRE_YEAR</th>\n",
       "      <th>DISCOVERY_DOY</th>\n",
       "      <th>STAT_CAUSE_CODE</th>\n",
       "      <th>CONT_DOY</th>\n",
       "      <th>FIRE_SIZE</th>\n",
       "      <th>FIRE_SIZE_CLASS</th>\n",
       "      <th>LATITUDE</th>\n",
       "      <th>LONGITUDE</th>\n",
       "      <th>OWNER_CODE</th>\n",
       "      <th>STATE</th>\n",
       "    </tr>\n",
       "  </thead>\n",
       "  <tbody>\n",
       "    <tr>\n",
       "      <th>0</th>\n",
       "      <td>17</td>\n",
       "      <td>USCAENF</td>\n",
       "      <td>2004</td>\n",
       "      <td>280</td>\n",
       "      <td>2.0</td>\n",
       "      <td>295.0</td>\n",
       "      <td>16823.0</td>\n",
       "      <td>G</td>\n",
       "      <td>38.523333</td>\n",
       "      <td>-120.211667</td>\n",
       "      <td>5.0</td>\n",
       "      <td>CA</td>\n",
       "    </tr>\n",
       "    <tr>\n",
       "      <th>1</th>\n",
       "      <td>18</td>\n",
       "      <td>USCAENF</td>\n",
       "      <td>2004</td>\n",
       "      <td>287</td>\n",
       "      <td>2.0</td>\n",
       "      <td>291.0</td>\n",
       "      <td>7700.0</td>\n",
       "      <td>G</td>\n",
       "      <td>38.780000</td>\n",
       "      <td>-120.260000</td>\n",
       "      <td>5.0</td>\n",
       "      <td>CA</td>\n",
       "    </tr>\n",
       "    <tr>\n",
       "      <th>2</th>\n",
       "      <td>40</td>\n",
       "      <td>USNCNCF</td>\n",
       "      <td>2005</td>\n",
       "      <td>43</td>\n",
       "      <td>5.0</td>\n",
       "      <td>44.0</td>\n",
       "      <td>125.0</td>\n",
       "      <td>D</td>\n",
       "      <td>36.001667</td>\n",
       "      <td>-81.590000</td>\n",
       "      <td>14.0</td>\n",
       "      <td>NC</td>\n",
       "    </tr>\n",
       "    <tr>\n",
       "      <th>3</th>\n",
       "      <td>119</td>\n",
       "      <td>USNENBF</td>\n",
       "      <td>2005</td>\n",
       "      <td>197</td>\n",
       "      <td>1.0</td>\n",
       "      <td>198.0</td>\n",
       "      <td>119.0</td>\n",
       "      <td>D</td>\n",
       "      <td>43.899167</td>\n",
       "      <td>-102.954722</td>\n",
       "      <td>5.0</td>\n",
       "      <td>SD</td>\n",
       "    </tr>\n",
       "    <tr>\n",
       "      <th>4</th>\n",
       "      <td>120</td>\n",
       "      <td>USNENBF</td>\n",
       "      <td>2005</td>\n",
       "      <td>197</td>\n",
       "      <td>1.0</td>\n",
       "      <td>197.0</td>\n",
       "      <td>119.0</td>\n",
       "      <td>D</td>\n",
       "      <td>43.892778</td>\n",
       "      <td>-102.948056</td>\n",
       "      <td>5.0</td>\n",
       "      <td>SD</td>\n",
       "    </tr>\n",
       "  </tbody>\n",
       "</table>\n",
       "</div>"
      ],
      "text/plain": [
       "   FOD_ID NWCG_REPORTING_UNIT_ID  FIRE_YEAR  DISCOVERY_DOY  STAT_CAUSE_CODE  \\\n",
       "0      17                USCAENF       2004            280              2.0   \n",
       "1      18                USCAENF       2004            287              2.0   \n",
       "2      40                USNCNCF       2005             43              5.0   \n",
       "3     119                USNENBF       2005            197              1.0   \n",
       "4     120                USNENBF       2005            197              1.0   \n",
       "\n",
       "   CONT_DOY  FIRE_SIZE FIRE_SIZE_CLASS   LATITUDE   LONGITUDE  OWNER_CODE  \\\n",
       "0     295.0    16823.0               G  38.523333 -120.211667         5.0   \n",
       "1     291.0     7700.0               G  38.780000 -120.260000         5.0   \n",
       "2      44.0      125.0               D  36.001667  -81.590000        14.0   \n",
       "3     198.0      119.0               D  43.899167 -102.954722         5.0   \n",
       "4     197.0      119.0               D  43.892778 -102.948056         5.0   \n",
       "\n",
       "  STATE  \n",
       "0    CA  \n",
       "1    CA  \n",
       "2    NC  \n",
       "3    SD  \n",
       "4    SD  "
      ]
     },
     "execution_count": 29,
     "metadata": {},
     "output_type": "execute_result"
    }
   ],
   "source": [
    "fires.head()"
   ]
  },
  {
   "cell_type": "markdown",
   "metadata": {},
   "source": [
    "Date helper function."
   ]
  },
  {
   "cell_type": "code",
   "execution_count": 30,
   "metadata": {},
   "outputs": [],
   "source": [
    "def compose_date(years, months=1, days=1, weeks=None, hours=None, minutes=None,\n",
    "                 seconds=None, milliseconds=None, microseconds=None, nanoseconds=None):\n",
    "    years = np.asarray(years) - 1970\n",
    "    months = np.asarray(months) - 1\n",
    "    days = np.asarray(days) - 1\n",
    "    types = ('<M8[Y]', '<m8[M]', '<m8[D]', '<m8[W]', '<m8[h]',\n",
    "             '<m8[m]', '<m8[s]', '<m8[ms]', '<m8[us]', '<m8[ns]')\n",
    "    vals = (years, months, days, weeks, hours, minutes, seconds,\n",
    "            milliseconds, microseconds, nanoseconds)\n",
    "    return sum(np.asarray(v, dtype=t) for t, v in zip(types, vals)\n",
    "               if v is not None)"
   ]
  },
  {
   "cell_type": "code",
   "execution_count": 31,
   "metadata": {},
   "outputs": [
    {
     "name": "stderr",
     "output_type": "stream",
     "text": [
      "C:\\Users\\Sam\\anaconda3\\lib\\site-packages\\ipykernel_launcher.py:1: SettingWithCopyWarning: \n",
      "A value is trying to be set on a copy of a slice from a DataFrame.\n",
      "Try using .loc[row_indexer,col_indexer] = value instead\n",
      "\n",
      "See the caveats in the documentation: https://pandas.pydata.org/pandas-docs/stable/user_guide/indexing.html#returning-a-view-versus-a-copy\n",
      "  \"\"\"Entry point for launching an IPython kernel.\n"
     ]
    }
   ],
   "source": [
    "fires[\"NEW_DISC_DATE\"] = compose_date(fires['FIRE_YEAR'], days=fires['DISCOVERY_DOY'])"
   ]
  },
  {
   "cell_type": "code",
   "execution_count": 32,
   "metadata": {},
   "outputs": [
    {
     "name": "stderr",
     "output_type": "stream",
     "text": [
      "C:\\Users\\Sam\\anaconda3\\lib\\site-packages\\pandas\\core\\indexing.py:844: SettingWithCopyWarning: \n",
      "A value is trying to be set on a copy of a slice from a DataFrame.\n",
      "Try using .loc[row_indexer,col_indexer] = value instead\n",
      "\n",
      "See the caveats in the documentation: https://pandas.pydata.org/pandas-docs/stable/user_guide/indexing.html#returning-a-view-versus-a-copy\n",
      "  self.obj[key] = _infer_fill_value(value)\n",
      "C:\\Users\\Sam\\anaconda3\\lib\\site-packages\\pandas\\core\\indexing.py:965: SettingWithCopyWarning: \n",
      "A value is trying to be set on a copy of a slice from a DataFrame.\n",
      "Try using .loc[row_indexer,col_indexer] = value instead\n",
      "\n",
      "See the caveats in the documentation: https://pandas.pydata.org/pandas-docs/stable/user_guide/indexing.html#returning-a-view-versus-a-copy\n",
      "  self.obj[item] = s\n"
     ]
    }
   ],
   "source": [
    "fires.loc[fires['CONT_DOY'] < fires['DISCOVERY_DOY'], 'different_years'] = 1\n",
    "fires.loc[fires['CONT_DOY'] >= fires['DISCOVERY_DOY'], 'different_years'] = 0"
   ]
  },
  {
   "cell_type": "code",
   "execution_count": 33,
   "metadata": {},
   "outputs": [
    {
     "name": "stderr",
     "output_type": "stream",
     "text": [
      "C:\\Users\\Sam\\anaconda3\\lib\\site-packages\\ipykernel_launcher.py:1: SettingWithCopyWarning: \n",
      "A value is trying to be set on a copy of a slice from a DataFrame.\n",
      "Try using .loc[row_indexer,col_indexer] = value instead\n",
      "\n",
      "See the caveats in the documentation: https://pandas.pydata.org/pandas-docs/stable/user_guide/indexing.html#returning-a-view-versus-a-copy\n",
      "  \"\"\"Entry point for launching an IPython kernel.\n"
     ]
    }
   ],
   "source": [
    "fires[\"NEW_CONT_DATE\"] = compose_date(fires['FIRE_YEAR'] + fires['different_years'], days = fires[\"CONT_DOY\"])"
   ]
  },
  {
   "cell_type": "code",
   "execution_count": 34,
   "metadata": {},
   "outputs": [
    {
     "data": {
      "text/html": [
       "<div>\n",
       "<style scoped>\n",
       "    .dataframe tbody tr th:only-of-type {\n",
       "        vertical-align: middle;\n",
       "    }\n",
       "\n",
       "    .dataframe tbody tr th {\n",
       "        vertical-align: top;\n",
       "    }\n",
       "\n",
       "    .dataframe thead th {\n",
       "        text-align: right;\n",
       "    }\n",
       "</style>\n",
       "<table border=\"1\" class=\"dataframe\">\n",
       "  <thead>\n",
       "    <tr style=\"text-align: right;\">\n",
       "      <th></th>\n",
       "      <th>FOD_ID</th>\n",
       "      <th>NWCG_REPORTING_UNIT_ID</th>\n",
       "      <th>FIRE_YEAR</th>\n",
       "      <th>DISCOVERY_DOY</th>\n",
       "      <th>STAT_CAUSE_CODE</th>\n",
       "      <th>CONT_DOY</th>\n",
       "      <th>FIRE_SIZE</th>\n",
       "      <th>FIRE_SIZE_CLASS</th>\n",
       "      <th>LATITUDE</th>\n",
       "      <th>LONGITUDE</th>\n",
       "      <th>OWNER_CODE</th>\n",
       "      <th>STATE</th>\n",
       "      <th>NEW_DISC_DATE</th>\n",
       "      <th>different_years</th>\n",
       "      <th>NEW_CONT_DATE</th>\n",
       "    </tr>\n",
       "  </thead>\n",
       "  <tbody>\n",
       "    <tr>\n",
       "      <th>0</th>\n",
       "      <td>17</td>\n",
       "      <td>USCAENF</td>\n",
       "      <td>2004</td>\n",
       "      <td>280</td>\n",
       "      <td>2.0</td>\n",
       "      <td>295.0</td>\n",
       "      <td>16823.0</td>\n",
       "      <td>G</td>\n",
       "      <td>38.523333</td>\n",
       "      <td>-120.211667</td>\n",
       "      <td>5.0</td>\n",
       "      <td>CA</td>\n",
       "      <td>2004-10-06</td>\n",
       "      <td>0.0</td>\n",
       "      <td>2004-10-21</td>\n",
       "    </tr>\n",
       "    <tr>\n",
       "      <th>1</th>\n",
       "      <td>18</td>\n",
       "      <td>USCAENF</td>\n",
       "      <td>2004</td>\n",
       "      <td>287</td>\n",
       "      <td>2.0</td>\n",
       "      <td>291.0</td>\n",
       "      <td>7700.0</td>\n",
       "      <td>G</td>\n",
       "      <td>38.780000</td>\n",
       "      <td>-120.260000</td>\n",
       "      <td>5.0</td>\n",
       "      <td>CA</td>\n",
       "      <td>2004-10-13</td>\n",
       "      <td>0.0</td>\n",
       "      <td>2004-10-17</td>\n",
       "    </tr>\n",
       "    <tr>\n",
       "      <th>2</th>\n",
       "      <td>40</td>\n",
       "      <td>USNCNCF</td>\n",
       "      <td>2005</td>\n",
       "      <td>43</td>\n",
       "      <td>5.0</td>\n",
       "      <td>44.0</td>\n",
       "      <td>125.0</td>\n",
       "      <td>D</td>\n",
       "      <td>36.001667</td>\n",
       "      <td>-81.590000</td>\n",
       "      <td>14.0</td>\n",
       "      <td>NC</td>\n",
       "      <td>2005-02-12</td>\n",
       "      <td>0.0</td>\n",
       "      <td>2005-02-13</td>\n",
       "    </tr>\n",
       "    <tr>\n",
       "      <th>3</th>\n",
       "      <td>119</td>\n",
       "      <td>USNENBF</td>\n",
       "      <td>2005</td>\n",
       "      <td>197</td>\n",
       "      <td>1.0</td>\n",
       "      <td>198.0</td>\n",
       "      <td>119.0</td>\n",
       "      <td>D</td>\n",
       "      <td>43.899167</td>\n",
       "      <td>-102.954722</td>\n",
       "      <td>5.0</td>\n",
       "      <td>SD</td>\n",
       "      <td>2005-07-16</td>\n",
       "      <td>0.0</td>\n",
       "      <td>2005-07-17</td>\n",
       "    </tr>\n",
       "    <tr>\n",
       "      <th>4</th>\n",
       "      <td>120</td>\n",
       "      <td>USNENBF</td>\n",
       "      <td>2005</td>\n",
       "      <td>197</td>\n",
       "      <td>1.0</td>\n",
       "      <td>197.0</td>\n",
       "      <td>119.0</td>\n",
       "      <td>D</td>\n",
       "      <td>43.892778</td>\n",
       "      <td>-102.948056</td>\n",
       "      <td>5.0</td>\n",
       "      <td>SD</td>\n",
       "      <td>2005-07-16</td>\n",
       "      <td>0.0</td>\n",
       "      <td>2005-07-16</td>\n",
       "    </tr>\n",
       "  </tbody>\n",
       "</table>\n",
       "</div>"
      ],
      "text/plain": [
       "   FOD_ID NWCG_REPORTING_UNIT_ID  FIRE_YEAR  DISCOVERY_DOY  STAT_CAUSE_CODE  \\\n",
       "0      17                USCAENF       2004            280              2.0   \n",
       "1      18                USCAENF       2004            287              2.0   \n",
       "2      40                USNCNCF       2005             43              5.0   \n",
       "3     119                USNENBF       2005            197              1.0   \n",
       "4     120                USNENBF       2005            197              1.0   \n",
       "\n",
       "   CONT_DOY  FIRE_SIZE FIRE_SIZE_CLASS   LATITUDE   LONGITUDE  OWNER_CODE  \\\n",
       "0     295.0    16823.0               G  38.523333 -120.211667         5.0   \n",
       "1     291.0     7700.0               G  38.780000 -120.260000         5.0   \n",
       "2      44.0      125.0               D  36.001667  -81.590000        14.0   \n",
       "3     198.0      119.0               D  43.899167 -102.954722         5.0   \n",
       "4     197.0      119.0               D  43.892778 -102.948056         5.0   \n",
       "\n",
       "  STATE NEW_DISC_DATE  different_years NEW_CONT_DATE  \n",
       "0    CA    2004-10-06              0.0    2004-10-21  \n",
       "1    CA    2004-10-13              0.0    2004-10-17  \n",
       "2    NC    2005-02-12              0.0    2005-02-13  \n",
       "3    SD    2005-07-16              0.0    2005-07-17  \n",
       "4    SD    2005-07-16              0.0    2005-07-16  "
      ]
     },
     "execution_count": 34,
     "metadata": {},
     "output_type": "execute_result"
    }
   ],
   "source": [
    "fires.head()"
   ]
  },
  {
   "cell_type": "code",
   "execution_count": 35,
   "metadata": {},
   "outputs": [
    {
     "name": "stderr",
     "output_type": "stream",
     "text": [
      "C:\\Users\\Sam\\anaconda3\\lib\\site-packages\\ipykernel_launcher.py:1: SettingWithCopyWarning: \n",
      "A value is trying to be set on a copy of a slice from a DataFrame.\n",
      "Try using .loc[row_indexer,col_indexer] = value instead\n",
      "\n",
      "See the caveats in the documentation: https://pandas.pydata.org/pandas-docs/stable/user_guide/indexing.html#returning-a-view-versus-a-copy\n",
      "  \"\"\"Entry point for launching an IPython kernel.\n"
     ]
    }
   ],
   "source": [
    "fires[\"CONT_TIME\"] = (fires[\"NEW_CONT_DATE\"] - fires[\"NEW_DISC_DATE\"]).dt.days"
   ]
  },
  {
   "cell_type": "code",
   "execution_count": 36,
   "metadata": {},
   "outputs": [
    {
     "data": {
      "text/html": [
       "<div>\n",
       "<style scoped>\n",
       "    .dataframe tbody tr th:only-of-type {\n",
       "        vertical-align: middle;\n",
       "    }\n",
       "\n",
       "    .dataframe tbody tr th {\n",
       "        vertical-align: top;\n",
       "    }\n",
       "\n",
       "    .dataframe thead th {\n",
       "        text-align: right;\n",
       "    }\n",
       "</style>\n",
       "<table border=\"1\" class=\"dataframe\">\n",
       "  <thead>\n",
       "    <tr style=\"text-align: right;\">\n",
       "      <th></th>\n",
       "      <th>FOD_ID</th>\n",
       "      <th>NWCG_REPORTING_UNIT_ID</th>\n",
       "      <th>FIRE_YEAR</th>\n",
       "      <th>DISCOVERY_DOY</th>\n",
       "      <th>STAT_CAUSE_CODE</th>\n",
       "      <th>CONT_DOY</th>\n",
       "      <th>FIRE_SIZE</th>\n",
       "      <th>FIRE_SIZE_CLASS</th>\n",
       "      <th>LATITUDE</th>\n",
       "      <th>LONGITUDE</th>\n",
       "      <th>OWNER_CODE</th>\n",
       "      <th>STATE</th>\n",
       "      <th>NEW_DISC_DATE</th>\n",
       "      <th>different_years</th>\n",
       "      <th>NEW_CONT_DATE</th>\n",
       "      <th>CONT_TIME</th>\n",
       "    </tr>\n",
       "  </thead>\n",
       "  <tbody>\n",
       "    <tr>\n",
       "      <th>0</th>\n",
       "      <td>17</td>\n",
       "      <td>USCAENF</td>\n",
       "      <td>2004</td>\n",
       "      <td>280</td>\n",
       "      <td>2.0</td>\n",
       "      <td>295.0</td>\n",
       "      <td>16823.0</td>\n",
       "      <td>G</td>\n",
       "      <td>38.523333</td>\n",
       "      <td>-120.211667</td>\n",
       "      <td>5.0</td>\n",
       "      <td>CA</td>\n",
       "      <td>2004-10-06</td>\n",
       "      <td>0.0</td>\n",
       "      <td>2004-10-21</td>\n",
       "      <td>15.0</td>\n",
       "    </tr>\n",
       "    <tr>\n",
       "      <th>1</th>\n",
       "      <td>18</td>\n",
       "      <td>USCAENF</td>\n",
       "      <td>2004</td>\n",
       "      <td>287</td>\n",
       "      <td>2.0</td>\n",
       "      <td>291.0</td>\n",
       "      <td>7700.0</td>\n",
       "      <td>G</td>\n",
       "      <td>38.780000</td>\n",
       "      <td>-120.260000</td>\n",
       "      <td>5.0</td>\n",
       "      <td>CA</td>\n",
       "      <td>2004-10-13</td>\n",
       "      <td>0.0</td>\n",
       "      <td>2004-10-17</td>\n",
       "      <td>4.0</td>\n",
       "    </tr>\n",
       "    <tr>\n",
       "      <th>2</th>\n",
       "      <td>40</td>\n",
       "      <td>USNCNCF</td>\n",
       "      <td>2005</td>\n",
       "      <td>43</td>\n",
       "      <td>5.0</td>\n",
       "      <td>44.0</td>\n",
       "      <td>125.0</td>\n",
       "      <td>D</td>\n",
       "      <td>36.001667</td>\n",
       "      <td>-81.590000</td>\n",
       "      <td>14.0</td>\n",
       "      <td>NC</td>\n",
       "      <td>2005-02-12</td>\n",
       "      <td>0.0</td>\n",
       "      <td>2005-02-13</td>\n",
       "      <td>1.0</td>\n",
       "    </tr>\n",
       "    <tr>\n",
       "      <th>3</th>\n",
       "      <td>119</td>\n",
       "      <td>USNENBF</td>\n",
       "      <td>2005</td>\n",
       "      <td>197</td>\n",
       "      <td>1.0</td>\n",
       "      <td>198.0</td>\n",
       "      <td>119.0</td>\n",
       "      <td>D</td>\n",
       "      <td>43.899167</td>\n",
       "      <td>-102.954722</td>\n",
       "      <td>5.0</td>\n",
       "      <td>SD</td>\n",
       "      <td>2005-07-16</td>\n",
       "      <td>0.0</td>\n",
       "      <td>2005-07-17</td>\n",
       "      <td>1.0</td>\n",
       "    </tr>\n",
       "    <tr>\n",
       "      <th>4</th>\n",
       "      <td>120</td>\n",
       "      <td>USNENBF</td>\n",
       "      <td>2005</td>\n",
       "      <td>197</td>\n",
       "      <td>1.0</td>\n",
       "      <td>197.0</td>\n",
       "      <td>119.0</td>\n",
       "      <td>D</td>\n",
       "      <td>43.892778</td>\n",
       "      <td>-102.948056</td>\n",
       "      <td>5.0</td>\n",
       "      <td>SD</td>\n",
       "      <td>2005-07-16</td>\n",
       "      <td>0.0</td>\n",
       "      <td>2005-07-16</td>\n",
       "      <td>0.0</td>\n",
       "    </tr>\n",
       "  </tbody>\n",
       "</table>\n",
       "</div>"
      ],
      "text/plain": [
       "   FOD_ID NWCG_REPORTING_UNIT_ID  FIRE_YEAR  DISCOVERY_DOY  STAT_CAUSE_CODE  \\\n",
       "0      17                USCAENF       2004            280              2.0   \n",
       "1      18                USCAENF       2004            287              2.0   \n",
       "2      40                USNCNCF       2005             43              5.0   \n",
       "3     119                USNENBF       2005            197              1.0   \n",
       "4     120                USNENBF       2005            197              1.0   \n",
       "\n",
       "   CONT_DOY  FIRE_SIZE FIRE_SIZE_CLASS   LATITUDE   LONGITUDE  OWNER_CODE  \\\n",
       "0     295.0    16823.0               G  38.523333 -120.211667         5.0   \n",
       "1     291.0     7700.0               G  38.780000 -120.260000         5.0   \n",
       "2      44.0      125.0               D  36.001667  -81.590000        14.0   \n",
       "3     198.0      119.0               D  43.899167 -102.954722         5.0   \n",
       "4     197.0      119.0               D  43.892778 -102.948056         5.0   \n",
       "\n",
       "  STATE NEW_DISC_DATE  different_years NEW_CONT_DATE  CONT_TIME  \n",
       "0    CA    2004-10-06              0.0    2004-10-21       15.0  \n",
       "1    CA    2004-10-13              0.0    2004-10-17        4.0  \n",
       "2    NC    2005-02-12              0.0    2005-02-13        1.0  \n",
       "3    SD    2005-07-16              0.0    2005-07-17        1.0  \n",
       "4    SD    2005-07-16              0.0    2005-07-16        0.0  "
      ]
     },
     "execution_count": 36,
     "metadata": {},
     "output_type": "execute_result"
    }
   ],
   "source": [
    "fires.head()"
   ]
  },
  {
   "cell_type": "code",
   "execution_count": 37,
   "metadata": {},
   "outputs": [],
   "source": [
    "# fires.CONT_TIME.describe()"
   ]
  },
  {
   "cell_type": "code",
   "execution_count": 38,
   "metadata": {},
   "outputs": [],
   "source": [
    "# new_corrMatrix = fires.corr()\n",
    "# sn.heatmap(new_corrMatrix, annot=True)\n",
    "# plt.show()"
   ]
  },
  {
   "cell_type": "code",
   "execution_count": 39,
   "metadata": {},
   "outputs": [],
   "source": [
    "# fires.different_years.describe()"
   ]
  },
  {
   "cell_type": "code",
   "execution_count": 40,
   "metadata": {},
   "outputs": [
    {
     "name": "stderr",
     "output_type": "stream",
     "text": [
      "C:\\Users\\Sam\\anaconda3\\lib\\site-packages\\sklearn\\utils\\deprecation.py:144: FutureWarning: The sklearn.metrics.classification module is  deprecated in version 0.22 and will be removed in version 0.24. The corresponding classes / functions should instead be imported from sklearn.metrics. Anything that cannot be imported from sklearn.metrics is now part of the private API.\n",
      "  warnings.warn(message, FutureWarning)\n"
     ]
    }
   ],
   "source": [
    "from yellowbrick.features import Rank1D"
   ]
  },
  {
   "cell_type": "code",
   "execution_count": 41,
   "metadata": {},
   "outputs": [],
   "source": [
    "X = wildfires[[\"FOD_ID\", \"FIRE_YEAR\", \"DISCOVERY_DOY\", \"STAT_CAUSE_CODE\",\"LATITUDE\",\"LONGITUDE\",\"OWNER_CODE\"]]\n",
    "y = wildfires[\"FIRE_SIZE\"]"
   ]
  },
  {
   "cell_type": "code",
   "execution_count": 42,
   "metadata": {},
   "outputs": [],
   "source": [
    "# visualizer = Rank1D(algorithm='shapiro')\n",
    "\n",
    "# visualizer.fit(X, y)           # Fit the data to the visualizer\n",
    "# visualizer.transform(X)        # Transform the data\n",
    "# visualizer.show() "
   ]
  },
  {
   "cell_type": "code",
   "execution_count": 43,
   "metadata": {},
   "outputs": [
    {
     "data": {
      "text/html": [
       "<div>\n",
       "<style scoped>\n",
       "    .dataframe tbody tr th:only-of-type {\n",
       "        vertical-align: middle;\n",
       "    }\n",
       "\n",
       "    .dataframe tbody tr th {\n",
       "        vertical-align: top;\n",
       "    }\n",
       "\n",
       "    .dataframe thead th {\n",
       "        text-align: right;\n",
       "    }\n",
       "</style>\n",
       "<table border=\"1\" class=\"dataframe\">\n",
       "  <thead>\n",
       "    <tr style=\"text-align: right;\">\n",
       "      <th></th>\n",
       "      <th>FOD_ID</th>\n",
       "      <th>NWCG_REPORTING_UNIT_ID</th>\n",
       "      <th>FIRE_YEAR</th>\n",
       "      <th>DISCOVERY_DOY</th>\n",
       "      <th>STAT_CAUSE_CODE</th>\n",
       "      <th>CONT_DOY</th>\n",
       "      <th>FIRE_SIZE</th>\n",
       "      <th>FIRE_SIZE_CLASS</th>\n",
       "      <th>LATITUDE</th>\n",
       "      <th>LONGITUDE</th>\n",
       "      <th>OWNER_CODE</th>\n",
       "      <th>STATE</th>\n",
       "      <th>NEW_DISC_DATE</th>\n",
       "      <th>different_years</th>\n",
       "      <th>NEW_CONT_DATE</th>\n",
       "      <th>CONT_TIME</th>\n",
       "    </tr>\n",
       "  </thead>\n",
       "  <tbody>\n",
       "    <tr>\n",
       "      <th>0</th>\n",
       "      <td>17</td>\n",
       "      <td>USCAENF</td>\n",
       "      <td>2004</td>\n",
       "      <td>280</td>\n",
       "      <td>2.0</td>\n",
       "      <td>295.0</td>\n",
       "      <td>16823.0</td>\n",
       "      <td>G</td>\n",
       "      <td>38.523333</td>\n",
       "      <td>-120.211667</td>\n",
       "      <td>5.0</td>\n",
       "      <td>CA</td>\n",
       "      <td>2004-10-06</td>\n",
       "      <td>0.0</td>\n",
       "      <td>2004-10-21</td>\n",
       "      <td>15.0</td>\n",
       "    </tr>\n",
       "    <tr>\n",
       "      <th>1</th>\n",
       "      <td>18</td>\n",
       "      <td>USCAENF</td>\n",
       "      <td>2004</td>\n",
       "      <td>287</td>\n",
       "      <td>2.0</td>\n",
       "      <td>291.0</td>\n",
       "      <td>7700.0</td>\n",
       "      <td>G</td>\n",
       "      <td>38.780000</td>\n",
       "      <td>-120.260000</td>\n",
       "      <td>5.0</td>\n",
       "      <td>CA</td>\n",
       "      <td>2004-10-13</td>\n",
       "      <td>0.0</td>\n",
       "      <td>2004-10-17</td>\n",
       "      <td>4.0</td>\n",
       "    </tr>\n",
       "    <tr>\n",
       "      <th>2</th>\n",
       "      <td>40</td>\n",
       "      <td>USNCNCF</td>\n",
       "      <td>2005</td>\n",
       "      <td>43</td>\n",
       "      <td>5.0</td>\n",
       "      <td>44.0</td>\n",
       "      <td>125.0</td>\n",
       "      <td>D</td>\n",
       "      <td>36.001667</td>\n",
       "      <td>-81.590000</td>\n",
       "      <td>14.0</td>\n",
       "      <td>NC</td>\n",
       "      <td>2005-02-12</td>\n",
       "      <td>0.0</td>\n",
       "      <td>2005-02-13</td>\n",
       "      <td>1.0</td>\n",
       "    </tr>\n",
       "    <tr>\n",
       "      <th>3</th>\n",
       "      <td>119</td>\n",
       "      <td>USNENBF</td>\n",
       "      <td>2005</td>\n",
       "      <td>197</td>\n",
       "      <td>1.0</td>\n",
       "      <td>198.0</td>\n",
       "      <td>119.0</td>\n",
       "      <td>D</td>\n",
       "      <td>43.899167</td>\n",
       "      <td>-102.954722</td>\n",
       "      <td>5.0</td>\n",
       "      <td>SD</td>\n",
       "      <td>2005-07-16</td>\n",
       "      <td>0.0</td>\n",
       "      <td>2005-07-17</td>\n",
       "      <td>1.0</td>\n",
       "    </tr>\n",
       "    <tr>\n",
       "      <th>4</th>\n",
       "      <td>120</td>\n",
       "      <td>USNENBF</td>\n",
       "      <td>2005</td>\n",
       "      <td>197</td>\n",
       "      <td>1.0</td>\n",
       "      <td>197.0</td>\n",
       "      <td>119.0</td>\n",
       "      <td>D</td>\n",
       "      <td>43.892778</td>\n",
       "      <td>-102.948056</td>\n",
       "      <td>5.0</td>\n",
       "      <td>SD</td>\n",
       "      <td>2005-07-16</td>\n",
       "      <td>0.0</td>\n",
       "      <td>2005-07-16</td>\n",
       "      <td>0.0</td>\n",
       "    </tr>\n",
       "  </tbody>\n",
       "</table>\n",
       "</div>"
      ],
      "text/plain": [
       "   FOD_ID NWCG_REPORTING_UNIT_ID  FIRE_YEAR  DISCOVERY_DOY  STAT_CAUSE_CODE  \\\n",
       "0      17                USCAENF       2004            280              2.0   \n",
       "1      18                USCAENF       2004            287              2.0   \n",
       "2      40                USNCNCF       2005             43              5.0   \n",
       "3     119                USNENBF       2005            197              1.0   \n",
       "4     120                USNENBF       2005            197              1.0   \n",
       "\n",
       "   CONT_DOY  FIRE_SIZE FIRE_SIZE_CLASS   LATITUDE   LONGITUDE  OWNER_CODE  \\\n",
       "0     295.0    16823.0               G  38.523333 -120.211667         5.0   \n",
       "1     291.0     7700.0               G  38.780000 -120.260000         5.0   \n",
       "2      44.0      125.0               D  36.001667  -81.590000        14.0   \n",
       "3     198.0      119.0               D  43.899167 -102.954722         5.0   \n",
       "4     197.0      119.0               D  43.892778 -102.948056         5.0   \n",
       "\n",
       "  STATE NEW_DISC_DATE  different_years NEW_CONT_DATE  CONT_TIME  \n",
       "0    CA    2004-10-06              0.0    2004-10-21       15.0  \n",
       "1    CA    2004-10-13              0.0    2004-10-17        4.0  \n",
       "2    NC    2005-02-12              0.0    2005-02-13        1.0  \n",
       "3    SD    2005-07-16              0.0    2005-07-17        1.0  \n",
       "4    SD    2005-07-16              0.0    2005-07-16        0.0  "
      ]
     },
     "execution_count": 43,
     "metadata": {},
     "output_type": "execute_result"
    }
   ],
   "source": [
    "fires.head()"
   ]
  },
  {
   "cell_type": "code",
   "execution_count": 44,
   "metadata": {},
   "outputs": [
    {
     "data": {
      "text/html": [
       "<div>\n",
       "<style scoped>\n",
       "    .dataframe tbody tr th:only-of-type {\n",
       "        vertical-align: middle;\n",
       "    }\n",
       "\n",
       "    .dataframe tbody tr th {\n",
       "        vertical-align: top;\n",
       "    }\n",
       "\n",
       "    .dataframe thead th {\n",
       "        text-align: right;\n",
       "    }\n",
       "</style>\n",
       "<table border=\"1\" class=\"dataframe\">\n",
       "  <thead>\n",
       "    <tr style=\"text-align: right;\">\n",
       "      <th></th>\n",
       "      <th>OBJECTID</th>\n",
       "      <th>FOD_ID</th>\n",
       "      <th>FPA_ID</th>\n",
       "      <th>SOURCE_SYSTEM_TYPE</th>\n",
       "      <th>SOURCE_SYSTEM</th>\n",
       "      <th>NWCG_REPORTING_AGENCY</th>\n",
       "      <th>NWCG_REPORTING_UNIT_ID</th>\n",
       "      <th>NWCG_REPORTING_UNIT_NAME</th>\n",
       "      <th>SOURCE_REPORTING_UNIT</th>\n",
       "      <th>SOURCE_REPORTING_UNIT_NAME</th>\n",
       "      <th>...</th>\n",
       "      <th>FIRE_SIZE_CLASS</th>\n",
       "      <th>LATITUDE</th>\n",
       "      <th>LONGITUDE</th>\n",
       "      <th>OWNER_CODE</th>\n",
       "      <th>OWNER_DESCR</th>\n",
       "      <th>STATE</th>\n",
       "      <th>COUNTY</th>\n",
       "      <th>FIPS_CODE</th>\n",
       "      <th>FIPS_NAME</th>\n",
       "      <th>Shape</th>\n",
       "    </tr>\n",
       "  </thead>\n",
       "  <tbody>\n",
       "    <tr>\n",
       "      <th>0</th>\n",
       "      <td>17</td>\n",
       "      <td>17</td>\n",
       "      <td>FS-1418878</td>\n",
       "      <td>FED</td>\n",
       "      <td>FS-FIRESTAT</td>\n",
       "      <td>FS</td>\n",
       "      <td>USCAENF</td>\n",
       "      <td>Eldorado National Forest</td>\n",
       "      <td>0503</td>\n",
       "      <td>Eldorado National Forest</td>\n",
       "      <td>...</td>\n",
       "      <td>G</td>\n",
       "      <td>38.523333</td>\n",
       "      <td>-120.211667</td>\n",
       "      <td>5.0</td>\n",
       "      <td>USFS</td>\n",
       "      <td>CA</td>\n",
       "      <td>5</td>\n",
       "      <td>005</td>\n",
       "      <td>Amador</td>\n",
       "      <td>b'\\x00\\x01\\xad\\x10\\x00\\x00dS\\\\\\xf2\\x8b\\r^\\xc0\\...</td>\n",
       "    </tr>\n",
       "    <tr>\n",
       "      <th>1</th>\n",
       "      <td>18</td>\n",
       "      <td>18</td>\n",
       "      <td>FS-1418881</td>\n",
       "      <td>FED</td>\n",
       "      <td>FS-FIRESTAT</td>\n",
       "      <td>FS</td>\n",
       "      <td>USCAENF</td>\n",
       "      <td>Eldorado National Forest</td>\n",
       "      <td>0503</td>\n",
       "      <td>Eldorado National Forest</td>\n",
       "      <td>...</td>\n",
       "      <td>G</td>\n",
       "      <td>38.780000</td>\n",
       "      <td>-120.260000</td>\n",
       "      <td>5.0</td>\n",
       "      <td>USFS</td>\n",
       "      <td>CA</td>\n",
       "      <td>17</td>\n",
       "      <td>017</td>\n",
       "      <td>El Dorado</td>\n",
       "      <td>b'\\x00\\x01\\xad\\x10\\x00\\x00p=\\n\\xd7\\xa3\\x10^\\xc...</td>\n",
       "    </tr>\n",
       "    <tr>\n",
       "      <th>2</th>\n",
       "      <td>40</td>\n",
       "      <td>40</td>\n",
       "      <td>FS-1418920</td>\n",
       "      <td>FED</td>\n",
       "      <td>FS-FIRESTAT</td>\n",
       "      <td>FS</td>\n",
       "      <td>USNCNCF</td>\n",
       "      <td>National Forests in North Carolina</td>\n",
       "      <td>0811</td>\n",
       "      <td>National Forests in North Carolina</td>\n",
       "      <td>...</td>\n",
       "      <td>D</td>\n",
       "      <td>36.001667</td>\n",
       "      <td>-81.590000</td>\n",
       "      <td>14.0</td>\n",
       "      <td>MISSING/NOT SPECIFIED</td>\n",
       "      <td>NC</td>\n",
       "      <td>27</td>\n",
       "      <td>027</td>\n",
       "      <td>Caldwell</td>\n",
       "      <td>b'\\x00\\x01\\xad\\x10\\x00\\x00\\xf4(\\\\\\x8f\\xc2eT\\xc...</td>\n",
       "    </tr>\n",
       "    <tr>\n",
       "      <th>3</th>\n",
       "      <td>117</td>\n",
       "      <td>119</td>\n",
       "      <td>FS-1419153</td>\n",
       "      <td>FED</td>\n",
       "      <td>FS-FIRESTAT</td>\n",
       "      <td>FS</td>\n",
       "      <td>USNENBF</td>\n",
       "      <td>Nebraska National Forest</td>\n",
       "      <td>0207</td>\n",
       "      <td>Nebraska National Forest</td>\n",
       "      <td>...</td>\n",
       "      <td>D</td>\n",
       "      <td>43.899167</td>\n",
       "      <td>-102.954722</td>\n",
       "      <td>5.0</td>\n",
       "      <td>USFS</td>\n",
       "      <td>SD</td>\n",
       "      <td>103</td>\n",
       "      <td>103</td>\n",
       "      <td>Pennington</td>\n",
       "      <td>b'\\x00\\x01\\xad\\x10\\x00\\x00\\x84\\xea9+\\x1a\\xbdY\\...</td>\n",
       "    </tr>\n",
       "    <tr>\n",
       "      <th>4</th>\n",
       "      <td>118</td>\n",
       "      <td>120</td>\n",
       "      <td>FS-1419156</td>\n",
       "      <td>FED</td>\n",
       "      <td>FS-FIRESTAT</td>\n",
       "      <td>FS</td>\n",
       "      <td>USNENBF</td>\n",
       "      <td>Nebraska National Forest</td>\n",
       "      <td>0207</td>\n",
       "      <td>Nebraska National Forest</td>\n",
       "      <td>...</td>\n",
       "      <td>D</td>\n",
       "      <td>43.892778</td>\n",
       "      <td>-102.948056</td>\n",
       "      <td>5.0</td>\n",
       "      <td>USFS</td>\n",
       "      <td>SD</td>\n",
       "      <td>103</td>\n",
       "      <td>103</td>\n",
       "      <td>Pennington</td>\n",
       "      <td>b'\\x00\\x01\\xad\\x10\\x00\\x00h?:\\xf1\\xac\\xbcY\\xc0...</td>\n",
       "    </tr>\n",
       "  </tbody>\n",
       "</table>\n",
       "<p>5 rows × 39 columns</p>\n",
       "</div>"
      ],
      "text/plain": [
       "   OBJECTID  FOD_ID      FPA_ID SOURCE_SYSTEM_TYPE SOURCE_SYSTEM  \\\n",
       "0        17      17  FS-1418878                FED   FS-FIRESTAT   \n",
       "1        18      18  FS-1418881                FED   FS-FIRESTAT   \n",
       "2        40      40  FS-1418920                FED   FS-FIRESTAT   \n",
       "3       117     119  FS-1419153                FED   FS-FIRESTAT   \n",
       "4       118     120  FS-1419156                FED   FS-FIRESTAT   \n",
       "\n",
       "  NWCG_REPORTING_AGENCY NWCG_REPORTING_UNIT_ID  \\\n",
       "0                    FS                USCAENF   \n",
       "1                    FS                USCAENF   \n",
       "2                    FS                USNCNCF   \n",
       "3                    FS                USNENBF   \n",
       "4                    FS                USNENBF   \n",
       "\n",
       "             NWCG_REPORTING_UNIT_NAME SOURCE_REPORTING_UNIT  \\\n",
       "0            Eldorado National Forest                  0503   \n",
       "1            Eldorado National Forest                  0503   \n",
       "2  National Forests in North Carolina                  0811   \n",
       "3            Nebraska National Forest                  0207   \n",
       "4            Nebraska National Forest                  0207   \n",
       "\n",
       "           SOURCE_REPORTING_UNIT_NAME  ... FIRE_SIZE_CLASS   LATITUDE  \\\n",
       "0            Eldorado National Forest  ...               G  38.523333   \n",
       "1            Eldorado National Forest  ...               G  38.780000   \n",
       "2  National Forests in North Carolina  ...               D  36.001667   \n",
       "3            Nebraska National Forest  ...               D  43.899167   \n",
       "4            Nebraska National Forest  ...               D  43.892778   \n",
       "\n",
       "    LONGITUDE OWNER_CODE            OWNER_DESCR STATE COUNTY FIPS_CODE  \\\n",
       "0 -120.211667        5.0                   USFS    CA      5       005   \n",
       "1 -120.260000        5.0                   USFS    CA     17       017   \n",
       "2  -81.590000       14.0  MISSING/NOT SPECIFIED    NC     27       027   \n",
       "3 -102.954722        5.0                   USFS    SD    103       103   \n",
       "4 -102.948056        5.0                   USFS    SD    103       103   \n",
       "\n",
       "    FIPS_NAME                                              Shape  \n",
       "0      Amador  b'\\x00\\x01\\xad\\x10\\x00\\x00dS\\\\\\xf2\\x8b\\r^\\xc0\\...  \n",
       "1   El Dorado  b'\\x00\\x01\\xad\\x10\\x00\\x00p=\\n\\xd7\\xa3\\x10^\\xc...  \n",
       "2    Caldwell  b'\\x00\\x01\\xad\\x10\\x00\\x00\\xf4(\\\\\\x8f\\xc2eT\\xc...  \n",
       "3  Pennington  b'\\x00\\x01\\xad\\x10\\x00\\x00\\x84\\xea9+\\x1a\\xbdY\\...  \n",
       "4  Pennington  b'\\x00\\x01\\xad\\x10\\x00\\x00h?:\\xf1\\xac\\xbcY\\xc0...  \n",
       "\n",
       "[5 rows x 39 columns]"
      ]
     },
     "execution_count": 44,
     "metadata": {},
     "output_type": "execute_result"
    }
   ],
   "source": [
    "wildfires.head()"
   ]
  },
  {
   "cell_type": "code",
   "execution_count": 45,
   "metadata": {},
   "outputs": [
    {
     "data": {
      "text/html": [
       "<div>\n",
       "<style scoped>\n",
       "    .dataframe tbody tr th:only-of-type {\n",
       "        vertical-align: middle;\n",
       "    }\n",
       "\n",
       "    .dataframe tbody tr th {\n",
       "        vertical-align: top;\n",
       "    }\n",
       "\n",
       "    .dataframe thead th {\n",
       "        text-align: right;\n",
       "    }\n",
       "</style>\n",
       "<table border=\"1\" class=\"dataframe\">\n",
       "  <thead>\n",
       "    <tr style=\"text-align: right;\">\n",
       "      <th></th>\n",
       "      <th>FOD_ID</th>\n",
       "      <th>NWCG_REPORTING_UNIT_ID</th>\n",
       "      <th>FIRE_YEAR</th>\n",
       "      <th>DISCOVERY_DOY</th>\n",
       "      <th>STAT_CAUSE_CODE</th>\n",
       "      <th>CONT_DOY</th>\n",
       "      <th>FIRE_SIZE</th>\n",
       "      <th>FIRE_SIZE_CLASS</th>\n",
       "      <th>LATITUDE</th>\n",
       "      <th>LONGITUDE</th>\n",
       "      <th>OWNER_CODE</th>\n",
       "      <th>STATE</th>\n",
       "      <th>NEW_DISC_DATE</th>\n",
       "      <th>different_years</th>\n",
       "      <th>NEW_CONT_DATE</th>\n",
       "      <th>CONT_TIME</th>\n",
       "    </tr>\n",
       "  </thead>\n",
       "  <tbody>\n",
       "    <tr>\n",
       "      <th>0</th>\n",
       "      <td>17</td>\n",
       "      <td>USCAENF</td>\n",
       "      <td>2004</td>\n",
       "      <td>280</td>\n",
       "      <td>2.0</td>\n",
       "      <td>295.0</td>\n",
       "      <td>16823.0</td>\n",
       "      <td>G</td>\n",
       "      <td>38.523333</td>\n",
       "      <td>-120.211667</td>\n",
       "      <td>5.0</td>\n",
       "      <td>CA</td>\n",
       "      <td>2004-10-06</td>\n",
       "      <td>0.0</td>\n",
       "      <td>2004-10-21</td>\n",
       "      <td>15.0</td>\n",
       "    </tr>\n",
       "    <tr>\n",
       "      <th>1</th>\n",
       "      <td>18</td>\n",
       "      <td>USCAENF</td>\n",
       "      <td>2004</td>\n",
       "      <td>287</td>\n",
       "      <td>2.0</td>\n",
       "      <td>291.0</td>\n",
       "      <td>7700.0</td>\n",
       "      <td>G</td>\n",
       "      <td>38.780000</td>\n",
       "      <td>-120.260000</td>\n",
       "      <td>5.0</td>\n",
       "      <td>CA</td>\n",
       "      <td>2004-10-13</td>\n",
       "      <td>0.0</td>\n",
       "      <td>2004-10-17</td>\n",
       "      <td>4.0</td>\n",
       "    </tr>\n",
       "    <tr>\n",
       "      <th>2</th>\n",
       "      <td>40</td>\n",
       "      <td>USNCNCF</td>\n",
       "      <td>2005</td>\n",
       "      <td>43</td>\n",
       "      <td>5.0</td>\n",
       "      <td>44.0</td>\n",
       "      <td>125.0</td>\n",
       "      <td>D</td>\n",
       "      <td>36.001667</td>\n",
       "      <td>-81.590000</td>\n",
       "      <td>14.0</td>\n",
       "      <td>NC</td>\n",
       "      <td>2005-02-12</td>\n",
       "      <td>0.0</td>\n",
       "      <td>2005-02-13</td>\n",
       "      <td>1.0</td>\n",
       "    </tr>\n",
       "    <tr>\n",
       "      <th>3</th>\n",
       "      <td>119</td>\n",
       "      <td>USNENBF</td>\n",
       "      <td>2005</td>\n",
       "      <td>197</td>\n",
       "      <td>1.0</td>\n",
       "      <td>198.0</td>\n",
       "      <td>119.0</td>\n",
       "      <td>D</td>\n",
       "      <td>43.899167</td>\n",
       "      <td>-102.954722</td>\n",
       "      <td>5.0</td>\n",
       "      <td>SD</td>\n",
       "      <td>2005-07-16</td>\n",
       "      <td>0.0</td>\n",
       "      <td>2005-07-17</td>\n",
       "      <td>1.0</td>\n",
       "    </tr>\n",
       "    <tr>\n",
       "      <th>4</th>\n",
       "      <td>120</td>\n",
       "      <td>USNENBF</td>\n",
       "      <td>2005</td>\n",
       "      <td>197</td>\n",
       "      <td>1.0</td>\n",
       "      <td>197.0</td>\n",
       "      <td>119.0</td>\n",
       "      <td>D</td>\n",
       "      <td>43.892778</td>\n",
       "      <td>-102.948056</td>\n",
       "      <td>5.0</td>\n",
       "      <td>SD</td>\n",
       "      <td>2005-07-16</td>\n",
       "      <td>0.0</td>\n",
       "      <td>2005-07-16</td>\n",
       "      <td>0.0</td>\n",
       "    </tr>\n",
       "  </tbody>\n",
       "</table>\n",
       "</div>"
      ],
      "text/plain": [
       "   FOD_ID NWCG_REPORTING_UNIT_ID  FIRE_YEAR  DISCOVERY_DOY  STAT_CAUSE_CODE  \\\n",
       "0      17                USCAENF       2004            280              2.0   \n",
       "1      18                USCAENF       2004            287              2.0   \n",
       "2      40                USNCNCF       2005             43              5.0   \n",
       "3     119                USNENBF       2005            197              1.0   \n",
       "4     120                USNENBF       2005            197              1.0   \n",
       "\n",
       "   CONT_DOY  FIRE_SIZE FIRE_SIZE_CLASS   LATITUDE   LONGITUDE  OWNER_CODE  \\\n",
       "0     295.0    16823.0               G  38.523333 -120.211667         5.0   \n",
       "1     291.0     7700.0               G  38.780000 -120.260000         5.0   \n",
       "2      44.0      125.0               D  36.001667  -81.590000        14.0   \n",
       "3     198.0      119.0               D  43.899167 -102.954722         5.0   \n",
       "4     197.0      119.0               D  43.892778 -102.948056         5.0   \n",
       "\n",
       "  STATE NEW_DISC_DATE  different_years NEW_CONT_DATE  CONT_TIME  \n",
       "0    CA    2004-10-06              0.0    2004-10-21       15.0  \n",
       "1    CA    2004-10-13              0.0    2004-10-17        4.0  \n",
       "2    NC    2005-02-12              0.0    2005-02-13        1.0  \n",
       "3    SD    2005-07-16              0.0    2005-07-17        1.0  \n",
       "4    SD    2005-07-16              0.0    2005-07-16        0.0  "
      ]
     },
     "execution_count": 45,
     "metadata": {},
     "output_type": "execute_result"
    }
   ],
   "source": [
    "fires.head()\n"
   ]
  },
  {
   "cell_type": "code",
   "execution_count": 46,
   "metadata": {},
   "outputs": [],
   "source": [
    "\n",
    "# fires3 = wildfires.apply(lambda col: pd.factorize(col, sort=True)[0])\n",
    "# fires2 = wildfires.apply(lambda col: pd.factorize(col, sort=True)[0])[[\"FOD_ID\", \"NWCG_REPORTING_UNIT_ID\", \"FIRE_YEAR\", \"DISCOVERY_DOY\", \"STAT_CAUSE_CODE\",\"CONT_DOY\",\"FIRE_SIZE\",\"FIRE_SIZE_CLASS\",\"LATITUDE\",\"LONGITUDE\",\"OWNER_CODE\",\"STATE\"]]"
   ]
  },
  {
   "cell_type": "code",
   "execution_count": 47,
   "metadata": {},
   "outputs": [],
   "source": [
    "# wildfires.head()\n",
    "# fires2.head()\n",
    "# fires3.head()"
   ]
  },
  {
   "cell_type": "code",
   "execution_count": 48,
   "metadata": {},
   "outputs": [],
   "source": [
    "# X = fires2[[\"FOD_ID\", \"NWCG_REPORTING_UNIT_ID\", \"FIRE_YEAR\", \"DISCOVERY_DOY\", \"STAT_CAUSE_CODE\",\"CONT_DOY\",\"LATITUDE\",\"LONGITUDE\",\"OWNER_CODE\",\"STATE\"]]\n",
    "# y = fires2[[\"FIRE_SIZE\"]]"
   ]
  },
  {
   "cell_type": "code",
   "execution_count": 49,
   "metadata": {},
   "outputs": [],
   "source": [
    "# visualizer = Rank1D(algorithm='shapiro')\n",
    "\n",
    "# visualizer.fit(X, y)           # Fit the data to the visualizer\n",
    "# visualizer.transform(X)        # Transform the data\n",
    "# visualizer.show() "
   ]
  },
  {
   "cell_type": "code",
   "execution_count": 50,
   "metadata": {},
   "outputs": [],
   "source": [
    "CATEGORICAL = [\"NWCG_REPORTING_AGENCY\", \"FIRE_SIZE_CLASS\", \"STATE\"]\n",
    "NUMERICAL = ['DISCOVERY_TIME',\"FIRE_YEAR\", \"DISCOVERY_DOY\", \"STAT_CAUSE_CODE\", \"CONT_DOY\", \"FIRE_SIZE\", \"LATITUDE\", \"LONGITUDE\", \"OWNER_CODE\"]\n",
    "\n"
   ]
  },
  {
   "cell_type": "code",
   "execution_count": 51,
   "metadata": {},
   "outputs": [],
   "source": [
    "fires_table = pd.read_sql_query(\"SELECT * from Fires where FIRE_SIZE >= 100\", con)"
   ]
  },
  {
   "cell_type": "code",
   "execution_count": 52,
   "metadata": {},
   "outputs": [],
   "source": [
    "wildfires = fires_table[NUMERICAL + CATEGORICAL]"
   ]
  },
  {
   "cell_type": "code",
   "execution_count": 53,
   "metadata": {},
   "outputs": [
    {
     "data": {
      "text/html": [
       "<div>\n",
       "<style scoped>\n",
       "    .dataframe tbody tr th:only-of-type {\n",
       "        vertical-align: middle;\n",
       "    }\n",
       "\n",
       "    .dataframe tbody tr th {\n",
       "        vertical-align: top;\n",
       "    }\n",
       "\n",
       "    .dataframe thead th {\n",
       "        text-align: right;\n",
       "    }\n",
       "</style>\n",
       "<table border=\"1\" class=\"dataframe\">\n",
       "  <thead>\n",
       "    <tr style=\"text-align: right;\">\n",
       "      <th></th>\n",
       "      <th>DISCOVERY_TIME</th>\n",
       "      <th>FIRE_YEAR</th>\n",
       "      <th>DISCOVERY_DOY</th>\n",
       "      <th>STAT_CAUSE_CODE</th>\n",
       "      <th>CONT_DOY</th>\n",
       "      <th>FIRE_SIZE</th>\n",
       "      <th>LATITUDE</th>\n",
       "      <th>LONGITUDE</th>\n",
       "      <th>OWNER_CODE</th>\n",
       "      <th>NWCG_REPORTING_AGENCY</th>\n",
       "      <th>FIRE_SIZE_CLASS</th>\n",
       "      <th>STATE</th>\n",
       "    </tr>\n",
       "  </thead>\n",
       "  <tbody>\n",
       "    <tr>\n",
       "      <th>0</th>\n",
       "      <td>1415</td>\n",
       "      <td>2004</td>\n",
       "      <td>280</td>\n",
       "      <td>2.0</td>\n",
       "      <td>295.0</td>\n",
       "      <td>16823.0</td>\n",
       "      <td>38.523333</td>\n",
       "      <td>-120.211667</td>\n",
       "      <td>5.0</td>\n",
       "      <td>FS</td>\n",
       "      <td>G</td>\n",
       "      <td>CA</td>\n",
       "    </tr>\n",
       "    <tr>\n",
       "      <th>1</th>\n",
       "      <td>1618</td>\n",
       "      <td>2004</td>\n",
       "      <td>287</td>\n",
       "      <td>2.0</td>\n",
       "      <td>291.0</td>\n",
       "      <td>7700.0</td>\n",
       "      <td>38.780000</td>\n",
       "      <td>-120.260000</td>\n",
       "      <td>5.0</td>\n",
       "      <td>FS</td>\n",
       "      <td>G</td>\n",
       "      <td>CA</td>\n",
       "    </tr>\n",
       "    <tr>\n",
       "      <th>2</th>\n",
       "      <td>1520</td>\n",
       "      <td>2005</td>\n",
       "      <td>43</td>\n",
       "      <td>5.0</td>\n",
       "      <td>44.0</td>\n",
       "      <td>125.0</td>\n",
       "      <td>36.001667</td>\n",
       "      <td>-81.590000</td>\n",
       "      <td>14.0</td>\n",
       "      <td>FS</td>\n",
       "      <td>D</td>\n",
       "      <td>NC</td>\n",
       "    </tr>\n",
       "    <tr>\n",
       "      <th>3</th>\n",
       "      <td>1715</td>\n",
       "      <td>2005</td>\n",
       "      <td>197</td>\n",
       "      <td>1.0</td>\n",
       "      <td>198.0</td>\n",
       "      <td>119.0</td>\n",
       "      <td>43.899167</td>\n",
       "      <td>-102.954722</td>\n",
       "      <td>5.0</td>\n",
       "      <td>FS</td>\n",
       "      <td>D</td>\n",
       "      <td>SD</td>\n",
       "    </tr>\n",
       "    <tr>\n",
       "      <th>4</th>\n",
       "      <td>1730</td>\n",
       "      <td>2005</td>\n",
       "      <td>197</td>\n",
       "      <td>1.0</td>\n",
       "      <td>197.0</td>\n",
       "      <td>119.0</td>\n",
       "      <td>43.892778</td>\n",
       "      <td>-102.948056</td>\n",
       "      <td>5.0</td>\n",
       "      <td>FS</td>\n",
       "      <td>D</td>\n",
       "      <td>SD</td>\n",
       "    </tr>\n",
       "  </tbody>\n",
       "</table>\n",
       "</div>"
      ],
      "text/plain": [
       "  DISCOVERY_TIME  FIRE_YEAR  DISCOVERY_DOY  STAT_CAUSE_CODE  CONT_DOY  \\\n",
       "0           1415       2004            280              2.0     295.0   \n",
       "1           1618       2004            287              2.0     291.0   \n",
       "2           1520       2005             43              5.0      44.0   \n",
       "3           1715       2005            197              1.0     198.0   \n",
       "4           1730       2005            197              1.0     197.0   \n",
       "\n",
       "   FIRE_SIZE   LATITUDE   LONGITUDE  OWNER_CODE NWCG_REPORTING_AGENCY  \\\n",
       "0    16823.0  38.523333 -120.211667         5.0                    FS   \n",
       "1     7700.0  38.780000 -120.260000         5.0                    FS   \n",
       "2      125.0  36.001667  -81.590000        14.0                    FS   \n",
       "3      119.0  43.899167 -102.954722         5.0                    FS   \n",
       "4      119.0  43.892778 -102.948056         5.0                    FS   \n",
       "\n",
       "  FIRE_SIZE_CLASS STATE  \n",
       "0               G    CA  \n",
       "1               G    CA  \n",
       "2               D    NC  \n",
       "3               D    SD  \n",
       "4               D    SD  "
      ]
     },
     "execution_count": 53,
     "metadata": {},
     "output_type": "execute_result"
    }
   ],
   "source": [
    "wildfires.head()"
   ]
  },
  {
   "cell_type": "code",
   "execution_count": 54,
   "metadata": {},
   "outputs": [],
   "source": [
    "import matplotlib.pyplot as plt\n",
    "import pandas as pd\n",
    "import seaborn as sn\n",
    "import sqlite3\n",
    "from sqlalchemy import create_engine\n",
    "from sklearn.cluster import KMeans\n",
    "from sklearn.decomposition import PCA\n",
    "from sklearn import preprocessing"
   ]
  },
  {
   "cell_type": "code",
   "execution_count": 55,
   "metadata": {},
   "outputs": [
    {
     "name": "stderr",
     "output_type": "stream",
     "text": [
      "C:\\Users\\Sam\\anaconda3\\lib\\site-packages\\pandas\\core\\indexing.py:965: SettingWithCopyWarning: \n",
      "A value is trying to be set on a copy of a slice from a DataFrame.\n",
      "Try using .loc[row_indexer,col_indexer] = value instead\n",
      "\n",
      "See the caveats in the documentation: https://pandas.pydata.org/pandas-docs/stable/user_guide/indexing.html#returning-a-view-versus-a-copy\n",
      "  self.obj[item] = s\n"
     ]
    }
   ],
   "source": [
    "le = preprocessing.LabelEncoder()\n",
    "le.fit(wildfires[\"STATE\"].unique())\n",
    "wildfires.loc[:, \"STATE\"] = le.transform(wildfires[\"STATE\"])\n",
    "le.fit(wildfires[\"NWCG_REPORTING_AGENCY\"].unique())\n",
    "wildfires.loc[:, \"NWCG_REPORTING_AGENCY\"] = le.transform(wildfires[\"NWCG_REPORTING_AGENCY\"])\n",
    "le.fit(wildfires[\"FIRE_SIZE_CLASS\"].unique())\n",
    "wildfires.loc[:, \"FIRE_SIZE_CLASS\"] = le.transform(wildfires[\"FIRE_SIZE_CLASS\"])\n"
   ]
  },
  {
   "cell_type": "code",
   "execution_count": 56,
   "metadata": {},
   "outputs": [
    {
     "data": {
      "text/html": [
       "<div>\n",
       "<style scoped>\n",
       "    .dataframe tbody tr th:only-of-type {\n",
       "        vertical-align: middle;\n",
       "    }\n",
       "\n",
       "    .dataframe tbody tr th {\n",
       "        vertical-align: top;\n",
       "    }\n",
       "\n",
       "    .dataframe thead th {\n",
       "        text-align: right;\n",
       "    }\n",
       "</style>\n",
       "<table border=\"1\" class=\"dataframe\">\n",
       "  <thead>\n",
       "    <tr style=\"text-align: right;\">\n",
       "      <th></th>\n",
       "      <th>DISCOVERY_TIME</th>\n",
       "      <th>FIRE_YEAR</th>\n",
       "      <th>DISCOVERY_DOY</th>\n",
       "      <th>STAT_CAUSE_CODE</th>\n",
       "      <th>CONT_DOY</th>\n",
       "      <th>FIRE_SIZE</th>\n",
       "      <th>LATITUDE</th>\n",
       "      <th>LONGITUDE</th>\n",
       "      <th>OWNER_CODE</th>\n",
       "      <th>NWCG_REPORTING_AGENCY</th>\n",
       "      <th>FIRE_SIZE_CLASS</th>\n",
       "      <th>STATE</th>\n",
       "    </tr>\n",
       "  </thead>\n",
       "  <tbody>\n",
       "    <tr>\n",
       "      <th>0</th>\n",
       "      <td>1415</td>\n",
       "      <td>2004</td>\n",
       "      <td>280</td>\n",
       "      <td>2.0</td>\n",
       "      <td>295.0</td>\n",
       "      <td>16823.0</td>\n",
       "      <td>38.523333</td>\n",
       "      <td>-120.211667</td>\n",
       "      <td>5.0</td>\n",
       "      <td>5</td>\n",
       "      <td>3</td>\n",
       "      <td>4</td>\n",
       "    </tr>\n",
       "    <tr>\n",
       "      <th>1</th>\n",
       "      <td>1618</td>\n",
       "      <td>2004</td>\n",
       "      <td>287</td>\n",
       "      <td>2.0</td>\n",
       "      <td>291.0</td>\n",
       "      <td>7700.0</td>\n",
       "      <td>38.780000</td>\n",
       "      <td>-120.260000</td>\n",
       "      <td>5.0</td>\n",
       "      <td>5</td>\n",
       "      <td>3</td>\n",
       "      <td>4</td>\n",
       "    </tr>\n",
       "    <tr>\n",
       "      <th>2</th>\n",
       "      <td>1520</td>\n",
       "      <td>2005</td>\n",
       "      <td>43</td>\n",
       "      <td>5.0</td>\n",
       "      <td>44.0</td>\n",
       "      <td>125.0</td>\n",
       "      <td>36.001667</td>\n",
       "      <td>-81.590000</td>\n",
       "      <td>14.0</td>\n",
       "      <td>5</td>\n",
       "      <td>0</td>\n",
       "      <td>26</td>\n",
       "    </tr>\n",
       "    <tr>\n",
       "      <th>3</th>\n",
       "      <td>1715</td>\n",
       "      <td>2005</td>\n",
       "      <td>197</td>\n",
       "      <td>1.0</td>\n",
       "      <td>198.0</td>\n",
       "      <td>119.0</td>\n",
       "      <td>43.899167</td>\n",
       "      <td>-102.954722</td>\n",
       "      <td>5.0</td>\n",
       "      <td>5</td>\n",
       "      <td>0</td>\n",
       "      <td>40</td>\n",
       "    </tr>\n",
       "    <tr>\n",
       "      <th>4</th>\n",
       "      <td>1730</td>\n",
       "      <td>2005</td>\n",
       "      <td>197</td>\n",
       "      <td>1.0</td>\n",
       "      <td>197.0</td>\n",
       "      <td>119.0</td>\n",
       "      <td>43.892778</td>\n",
       "      <td>-102.948056</td>\n",
       "      <td>5.0</td>\n",
       "      <td>5</td>\n",
       "      <td>0</td>\n",
       "      <td>40</td>\n",
       "    </tr>\n",
       "  </tbody>\n",
       "</table>\n",
       "</div>"
      ],
      "text/plain": [
       "  DISCOVERY_TIME  FIRE_YEAR  DISCOVERY_DOY  STAT_CAUSE_CODE  CONT_DOY  \\\n",
       "0           1415       2004            280              2.0     295.0   \n",
       "1           1618       2004            287              2.0     291.0   \n",
       "2           1520       2005             43              5.0      44.0   \n",
       "3           1715       2005            197              1.0     198.0   \n",
       "4           1730       2005            197              1.0     197.0   \n",
       "\n",
       "   FIRE_SIZE   LATITUDE   LONGITUDE  OWNER_CODE  NWCG_REPORTING_AGENCY  \\\n",
       "0    16823.0  38.523333 -120.211667         5.0                      5   \n",
       "1     7700.0  38.780000 -120.260000         5.0                      5   \n",
       "2      125.0  36.001667  -81.590000        14.0                      5   \n",
       "3      119.0  43.899167 -102.954722         5.0                      5   \n",
       "4      119.0  43.892778 -102.948056         5.0                      5   \n",
       "\n",
       "   FIRE_SIZE_CLASS  STATE  \n",
       "0                3      4  \n",
       "1                3      4  \n",
       "2                0     26  \n",
       "3                0     40  \n",
       "4                0     40  "
      ]
     },
     "execution_count": 56,
     "metadata": {},
     "output_type": "execute_result"
    }
   ],
   "source": [
    "wildfires.head()"
   ]
  },
  {
   "cell_type": "code",
   "execution_count": 57,
   "metadata": {},
   "outputs": [],
   "source": [
    "X = wildfires[[\"NWCG_REPORTING_AGENCY\", \"FIRE_YEAR\", \"DISCOVERY_DOY\", \"STAT_CAUSE_CODE\",\"CONT_DOY\",\"LATITUDE\",\"LONGITUDE\",\"OWNER_CODE\",\"STATE\"]]\n",
    "y = wildfires[\"FIRE_SIZE\"]"
   ]
  },
  {
   "cell_type": "code",
   "execution_count": 58,
   "metadata": {
    "scrolled": false
   },
   "outputs": [],
   "source": [
    "# visualizer = Rank1D(algorithm='shapiro')\n",
    "\n",
    "# visualizer.fit(X, y)           # Fit the data to the visualizer\n",
    "# visualizer.transform(X)        # Transform the data\n",
    "# visualizer.show() "
   ]
  },
  {
   "cell_type": "code",
   "execution_count": 59,
   "metadata": {
    "scrolled": false
   },
   "outputs": [],
   "source": [
    "# from yellowbrick.features import Rank2D\n",
    "\n",
    "\n",
    "# visualizer = Rank2D(algorithm='pearson')\n",
    "\n",
    "# visualizer.fit(X, y)           \n",
    "# visualizer.transform(X)        \n",
    "# visualizer.show()  "
   ]
  },
  {
   "cell_type": "code",
   "execution_count": 60,
   "metadata": {},
   "outputs": [
    {
     "data": {
      "text/plain": [
       "(8114, 12)"
      ]
     },
     "execution_count": 60,
     "metadata": {},
     "output_type": "execute_result"
    }
   ],
   "source": [
    "wildfires2= wildfires.sample(frac=.15, replace=False, weights=None, random_state=2)\n",
    "wildfires2.reset_index(drop=True, inplace=True)\n",
    "\n",
    "X2= wildfires2[[\"DISCOVERY_DOY\", \"STAT_CAUSE_CODE\",\"LATITUDE\",\"LONGITUDE\",\"STATE\"]]\n",
    "y2 = wildfires2[\"FIRE_SIZE_CLASS\"]\n",
    "wildfires2.shape"
   ]
  },
  {
   "cell_type": "code",
   "execution_count": 61,
   "metadata": {},
   "outputs": [],
   "source": [
    "# from yellowbrick.features import RadViz\n",
    "\n",
    "\n",
    "# classes = [\"A\", \"B\", \"C\", \"D\", \"E\",\"F\", \"G\"]\n",
    "# # Instantiate the visualizer\n",
    "# visualizer = RadViz(classes = classes)\n",
    "\n",
    "# visualizer.fit(X2, y2)           # Fit the data to the visualizer\n",
    "# visualizer.transform(X2)        # Transform the data\n",
    "# visualizer.show()      "
   ]
  },
  {
   "cell_type": "code",
   "execution_count": 62,
   "metadata": {},
   "outputs": [],
   "source": [
    "# from yellowbrick.features import PCA\n",
    "\n",
    "# # Specify the features of interest and the target\n",
    "# classes = [\"A\", \"B\", \"C\", \"D\", \"E\",\"F\", \"G\"]\n",
    "\n",
    "# visualizer = PCA(scale=True, classes=classes)\n",
    "# visualizer.fit_transform(X2, y2)\n",
    "# visualizer.show()"
   ]
  },
  {
   "cell_type": "code",
   "execution_count": 63,
   "metadata": {},
   "outputs": [],
   "source": [
    "# from yellowbrick.features import PCA\n",
    "\n",
    "\n",
    "# classes = [\"A\", \"B\", \"C\", \"D\", \"E\",\"F\", \"G\"]\n",
    "\n",
    "# visualizer = PCA(\n",
    "#     scale=True, projection=3, classes=classes\n",
    "# )\n",
    "# visualizer.fit_transform(X2, y2)\n",
    "# visualizer.show()"
   ]
  },
  {
   "cell_type": "code",
   "execution_count": 64,
   "metadata": {},
   "outputs": [],
   "source": [
    "# visualizer = PCA(scale=True, proj_features=True, projection=3)\n",
    "# visualizer.fit_transform(X2, y2)\n",
    "# visualizer.show()"
   ]
  },
  {
   "cell_type": "code",
   "execution_count": 65,
   "metadata": {},
   "outputs": [],
   "source": [
    "# visualizer = PCA(scale=True, proj_features=True)\n",
    "# visualizer.fit_transform(X2, y2)\n",
    "# visualizer.show()"
   ]
  },
  {
   "cell_type": "code",
   "execution_count": 66,
   "metadata": {},
   "outputs": [],
   "source": [
    "# from yellowbrick.features import ParallelCoordinates\n",
    "\n",
    "# # Specify the features of interest and the classes of the target\n",
    "# features = [\n",
    "#     \"DISCOVERY_DOY\", \"STAT_CAUSE_CODE\",\"LATITUDE\",\"LONGITUDE\",\"STATE\"]\n",
    "# classes = [\"A\", \"B\", \"C\", \"D\", \"E\",\"F\", \"G\"]\n",
    "\n",
    "# # Instantiate the visualizer\n",
    "# visualizer = ParallelCoordinates(\n",
    "#     classes=classes, features=features, sample=0.05, shuffle=True\n",
    "# )\n",
    "\n",
    "# # Fit and transform the data to the visualizer\n",
    "# visualizer.fit_transform(X2,y2)\n",
    "\n",
    "# # Finalize the title and axes then display the visualization\n",
    "# visualizer.show()"
   ]
  },
  {
   "cell_type": "code",
   "execution_count": 67,
   "metadata": {},
   "outputs": [],
   "source": [
    "CATEGORICAL = [\"NWCG_REPORTING_AGENCY\", \"FIRE_SIZE_CLASS\", \"STATE\"]\n",
    "NUMERICAL = ['DISCOVERY_TIME',\"FIRE_YEAR\", \"DISCOVERY_DOY\", \"STAT_CAUSE_CODE\", \"CONT_DOY\", \"FIRE_SIZE\", \"LATITUDE\", \"LONGITUDE\", \"OWNER_CODE\"]\n",
    "fires_table = pd.read_sql_query(\"SELECT * from Fires where FIRE_SIZE > 100\", con)\n",
    "wildfires = fires_table[NUMERICAL + CATEGORICAL]"
   ]
  },
  {
   "cell_type": "code",
   "execution_count": 68,
   "metadata": {},
   "outputs": [
    {
     "name": "stderr",
     "output_type": "stream",
     "text": [
      "C:\\Users\\Sam\\anaconda3\\lib\\site-packages\\pandas\\core\\indexing.py:965: SettingWithCopyWarning: \n",
      "A value is trying to be set on a copy of a slice from a DataFrame.\n",
      "Try using .loc[row_indexer,col_indexer] = value instead\n",
      "\n",
      "See the caveats in the documentation: https://pandas.pydata.org/pandas-docs/stable/user_guide/indexing.html#returning-a-view-versus-a-copy\n",
      "  self.obj[item] = s\n"
     ]
    }
   ],
   "source": [
    "le = preprocessing.LabelEncoder()\n",
    "le.fit(wildfires[\"STATE\"].unique())\n",
    "wildfires.loc[:, \"STATE\"] = le.transform(wildfires[\"STATE\"])\n",
    "le.fit(wildfires[\"NWCG_REPORTING_AGENCY\"].unique())\n",
    "wildfires.loc[:, \"NWCG_REPORTING_AGENCY\"] = le.transform(wildfires[\"NWCG_REPORTING_AGENCY\"])\n",
    "le.fit(wildfires[\"FIRE_SIZE_CLASS\"].unique())\n",
    "wildfires.loc[:, \"FIRE_SIZE_CLASS\"] = le.transform(wildfires[\"FIRE_SIZE_CLASS\"])\n",
    "X = wildfires[[\"NWCG_REPORTING_AGENCY\", \"FIRE_YEAR\", \"DISCOVERY_DOY\", \"STAT_CAUSE_CODE\",\"CONT_DOY\",\"LATITUDE\",\"LONGITUDE\",\"OWNER_CODE\",\"STATE\"]]\n",
    "y = wildfires[\"FIRE_SIZE\"]"
   ]
  },
  {
   "cell_type": "code",
   "execution_count": 69,
   "metadata": {},
   "outputs": [],
   "source": [
    "# visualizer = Rank1D(algorithm='shapiro')\n",
    "\n",
    "# visualizer.fit(X, y)           # Fit the data to the visualizer\n",
    "# visualizer.transform(X)        # Transform the data\n",
    "# visualizer.show() "
   ]
  },
  {
   "cell_type": "code",
   "execution_count": 70,
   "metadata": {},
   "outputs": [],
   "source": [
    "# from yellowbrick.features import Rank2D\n",
    "\n",
    "\n",
    "# visualizer = Rank2D(algorithm='pearson')\n",
    "\n",
    "# visualizer.fit(X, y)           \n",
    "# visualizer.transform(X)        \n",
    "# visualizer.show()  "
   ]
  },
  {
   "cell_type": "code",
   "execution_count": 71,
   "metadata": {},
   "outputs": [],
   "source": [
    "# wildfires2= wildfires.sample(frac=.8, replace=False, weights=None, random_state=2)\n",
    "# wildfires2.reset_index(drop=True, inplace=True)\n",
    "\n",
    "# X2= wildfires[[\"DISCOVERY_DOY\", \"STAT_CAUSE_CODE\",\"LATITUDE\",\"LONGITUDE\",\"STATE\"]]\n",
    "# y2 = wildfires[\"FIRE_SIZE_CLASS\"]\n",
    "# wildfires2.shape"
   ]
  },
  {
   "cell_type": "code",
   "execution_count": 72,
   "metadata": {},
   "outputs": [],
   "source": [
    "# from yellowbrick.features import RadViz\n",
    "\n",
    "\n",
    "# classes = [\"D\", \"E\",\"F\", \"G\"]\n",
    "# # Instantiate the visualizer\n",
    "# visualizer = RadViz(classes = classes)\n",
    "\n",
    "# visualizer.fit(X2, y2)           # Fit the data to the visualizer\n",
    "# visualizer.transform(X2)        # Transform the data\n",
    "# visualizer.show()    "
   ]
  },
  {
   "cell_type": "code",
   "execution_count": 73,
   "metadata": {},
   "outputs": [],
   "source": [
    "# from yellowbrick.features import PCA\n",
    "\n",
    "# # Specify the features of interest and the target\n",
    "# classes = [\"D\", \"E\",\"F\", \"G\"]\n",
    "\n",
    "# visualizer = PCA(scale=True, classes=classes)\n",
    "# visualizer.fit_transform(X2, y2)\n",
    "# visualizer.show()"
   ]
  },
  {
   "cell_type": "code",
   "execution_count": 74,
   "metadata": {},
   "outputs": [],
   "source": [
    "# from yellowbrick.features import PCA\n",
    "\n",
    "\n",
    "# classes = [\"D\", \"E\",\"F\", \"G\"]\n",
    "\n",
    "# visualizer = PCA(\n",
    "#     scale=True, projection=3, classes=classes\n",
    "# )\n",
    "# visualizer.fit_transform(X2, y2)\n",
    "# visualizer.show()"
   ]
  },
  {
   "cell_type": "code",
   "execution_count": 75,
   "metadata": {},
   "outputs": [],
   "source": [
    "# visualizer = PCA(scale=True, proj_features=True, projection=3)\n",
    "# visualizer.fit_transform(X2, y2)\n",
    "# # visualizer.show()"
   ]
  },
  {
   "cell_type": "code",
   "execution_count": 76,
   "metadata": {},
   "outputs": [],
   "source": [
    "# visualizer = PCA(scale=True, proj_features=True)\n",
    "# # visualizer.fit_transform(X2, y2)\n",
    "# visualizer.show()"
   ]
  },
  {
   "cell_type": "code",
   "execution_count": 77,
   "metadata": {},
   "outputs": [],
   "source": [
    "# from yellowbrick.features import ParallelCoordinates\n",
    "\n",
    "# # Specify the features of interest and the classes of the target\n",
    "# features = [\n",
    "#     \"DISCOVERY_DOY\", \"STAT_CAUSE_CODE\",\"LATITUDE\",\"LONGITUDE\",\"STATE\"]\n",
    "# classes = [\"D\", \"E\",\"F\", \"G\"]\n",
    "\n",
    "# # Instantiate the visualizer\n",
    "# visualizer = ParallelCoordinates(\n",
    "#     classes=classes, features=features, sample=0.05, shuffle=True\n",
    "# )\n",
    "\n",
    "# # Fit and transform the data to the visualizer\n",
    "# visualizer.fit_transform(X2,y2)\n",
    "\n",
    "# # Finalize the title and axes then display the visualization\n",
    "# visualizer.show()"
   ]
  },
  {
   "cell_type": "code",
   "execution_count": 78,
   "metadata": {},
   "outputs": [],
   "source": [
    "# from yellowbrick.features.manifold import manifold_embedding\n",
    "\n",
    "\n",
    "# # Load the regression dataset\n",
    "\n",
    "\n",
    "# # Instantiate the visualizer\n",
    "# manifold_embedding(X2, y2, manifold=\"isomap\", n_neighbors=10)"
   ]
  },
  {
   "cell_type": "code",
   "execution_count": 79,
   "metadata": {},
   "outputs": [],
   "source": [
    "# from yellowbrick.features import JointPlotVisualizer\n",
    "\n",
    "# # Load the dataset\n",
    "\n",
    "# # Instantiate the visualizer\n",
    "# visualizer = JointPlotVisualizer(columns=\"LONGITUDE\")\n",
    "\n",
    "# visualizer.fit_transform(X2, y2)        # Fit and transform the data\n",
    "# visualizer.show()  "
   ]
  },
  {
   "cell_type": "code",
   "execution_count": 80,
   "metadata": {},
   "outputs": [],
   "source": [
    "# from yellowbrick.features import JointPlotVisualizer\n",
    "\n",
    "# # Load the dataset\n",
    "\n",
    "# # Instantiate the visualizer\n",
    "# visualizer = JointPlotVisualizer(columns=\"LONGITUDE\")\n",
    "\n",
    "# visualizer.fit_transform(X, y2)        # Fit and transform the data\n",
    "# visualizer.show()  "
   ]
  },
  {
   "cell_type": "code",
   "execution_count": 81,
   "metadata": {},
   "outputs": [],
   "source": [
    "# from yellowbrick.features import JointPlotVisualizer\n",
    "\n",
    "# # Load the dataset\n",
    "\n",
    "# # Instantiate the visualizer\n",
    "# visualizer = JointPlotVisualizer(columns=\"LONGITUDE\")\n",
    "\n",
    "# visualizer.fit_transform(X, y)        # Fit and transform the data\n",
    "# visualizer.show()  "
   ]
  },
  {
   "cell_type": "code",
   "execution_count": 82,
   "metadata": {},
   "outputs": [],
   "source": [
    "# from yellowbrick.features import JointPlotVisualizer\n",
    "\n",
    "# # Load the dataset\n",
    "\n",
    "# # Instantiate the visualizer\n",
    "# visualizer = JointPlotVisualizer(columns=\"STAT_CAUSE_CODE\")\n",
    "\n",
    "# visualizer.fit_transform(X, y)        # Fit and transform the data\n",
    "# visualizer.show()  "
   ]
  },
  {
   "cell_type": "code",
   "execution_count": 83,
   "metadata": {},
   "outputs": [],
   "source": [
    "# from yellowbrick.features import JointPlotVisualizer\n",
    "\n",
    "# # Load the dataset\n",
    "\n",
    "# # Instantiate the visualizer\n",
    "# visualizer = JointPlotVisualizer(columns=\"LATITUDE\")\n",
    "\n",
    "# visualizer.fit_transform(X, y)        # Fit and transform the data\n",
    "# visualizer.show()  "
   ]
  },
  {
   "cell_type": "code",
   "execution_count": 84,
   "metadata": {},
   "outputs": [],
   "source": [
    "# from sklearn.cluster import KMeans\n",
    "\n",
    "# from yellowbrick.cluster import SilhouetteVisualizer\n",
    "\n",
    "\n",
    "# # Load a clustering dataset\n",
    "\n",
    "\n",
    "# # Specify the features to use for clustering\n",
    "# features = [\n",
    "#     \"DISCOVERY_DOY\", \"STAT_CAUSE_CODE\",\"LATITUDE\",\"LONGITUDE\",\"STATE\"]\n",
    "\n",
    "\n",
    "# # Instantiate the clustering model and visualizer\n",
    "# model = KMeans(5, random_state=42)\n",
    "# visualizer = SilhouetteVisualizer(model, colors='yellowbrick')\n",
    "\n",
    "# visualizer.fit(X2)        # Fit the data to the visualizer\n",
    "# visualizer.show()  "
   ]
  },
  {
   "cell_type": "code",
   "execution_count": 85,
   "metadata": {},
   "outputs": [],
   "source": [
    "# from sklearn.cluster import KMeans\n",
    "# from sklearn.datasets import make_blobs\n",
    "\n",
    "# from yellowbrick.cluster import InterclusterDistance\n",
    "\n",
    "# # Generate synthetic dataset with 12 random clusters\n",
    "\n",
    "# # Instantiate the clustering model and visualizer\n",
    "# model = KMeans(4)\n",
    "# visualizer = InterclusterDistance(model)\n",
    "\n",
    "# visualizer.fit(X2)        # Fit the data to the visualizer\n",
    "# visualizer.show() "
   ]
  },
  {
   "cell_type": "code",
   "execution_count": 86,
   "metadata": {},
   "outputs": [],
   "source": [
    "# intercluster_distance(MiniBatchKMeans(4, random_state=777), X2)"
   ]
  },
  {
   "cell_type": "code",
   "execution_count": 87,
   "metadata": {},
   "outputs": [],
   "source": [
    "\n",
    "# fires_table = pd.read_sql_query(\"SELECT * from Fires where FIRE_SIZE > 100.0\", con)\n",
    "# wildfiresall = fires_table\n",
    "\n",
    "# le = preprocessing.LabelEncoder()\n",
    "# le.fit(wildfiresall[\"STATE\"].unique())\n",
    "# wildfires.loc[:, \"STATE\"] = le.transform(wildfiresall[\"STATE\"])\n",
    "# le.fit(wildfiresall[\"NWCG_REPORTING_AGENCY\"].unique())\n",
    "# wildfiresall.loc[:, \"NWCG_REPORTING_AGENCY\"] = le.transform(wildfiresall[\"NWCG_REPORTING_AGENCY\"])\n",
    "# le.fit(wildfiresall[\"FIRE_SIZE_CLASS\"].unique())\n",
    "# wildfiresall.loc[:, \"FIRE_SIZE_CLASS\"] = le.transform(wildfiresall[\"FIRE_SIZE_CLASS\"])\n",
    "\n",
    "# # Xall = wildfiresall['FOD_ID', 'FPA_ID', 'SOURCE_SYSTEM_TYPE', 'SOURCE_SYSTEM',\n",
    "# #        'NWCG_REPORTING_AGENCY', 'NWCG_REPORTING_UNIT_ID',\n",
    "# #        'NWCG_REPORTING_UNIT_NAME', 'SOURCE_REPORTING_UNIT',\n",
    "# #        'SOURCE_REPORTING_UNIT_NAME', 'LOCAL_FIRE_REPORT_ID',\n",
    "# #        'LOCAL_INCIDENT_ID', 'FIRE_CODE', 'FIRE_NAME',\n",
    "# #        'ICS_209_INCIDENT_NUMBER', 'ICS_209_NAME', 'MTBS_ID', 'MTBS_FIRE_NAME',\n",
    "# #        'COMPLEX_NAME', 'FIRE_YEAR', 'DISCOVERY_DATE', 'DISCOVERY_DOY',\n",
    "# #        'DISCOVERY_TIME', 'STAT_CAUSE_CODE', 'STAT_CAUSE_DESCR', 'CONT_DATE',\n",
    "# #        'CONT_DOY', 'CONT_TIME', 'LATITUDE',\n",
    "# #        'LONGITUDE', 'OWNER_CODE', 'OWNER_DESCR', 'STATE', 'COUNTY',\n",
    "# #        'FIPS_CODE', 'FIPS_NAME']\n",
    "# # yall = wildfiresall[\"FIRE_SIZE\"]\n",
    "\n",
    "# # visualizer = Rank1D(algorithm='shapiro')\n",
    "\n",
    "# # visualizer.fit(Xall, yall)           # Fit the data to the visualizer\n",
    "# # visualizer.transform(Xall)        # Transform the data\n",
    "# # visualizer.show()"
   ]
  },
  {
   "cell_type": "code",
   "execution_count": 88,
   "metadata": {},
   "outputs": [],
   "source": [
    "\n",
    "le = preprocessing.LabelEncoder()\n",
    "le.fit(wildfires[\"STATE\"].unique())\n",
    "wildfires.loc[:, \"STATE\"] = le.transform(wildfires[\"STATE\"])\n",
    "\n",
    "le.fit(wildfires[\"NWCG_REPORTING_AGENCY\"].unique())\n",
    "wildfires.loc[:, \"NWCG_REPORTING_AGENCY\"] = le.transform(wildfires[\"NWCG_REPORTING_AGENCY\"])\n",
    "\n",
    "# le.fit(wildfires[\"FIRE_SIZE_CLASS\"].unique())\n",
    "# wildfires.loc[:, \"FIRE_SIZE_CLASS\"] = le.transform(wildfires[\"FIRE_SIZE_CLASS\"])\n",
    "wildfires.fillna(0)\n",
    "X = wildfires[[\"NWCG_REPORTING_AGENCY\", \"FIRE_YEAR\", \"DISCOVERY_DOY\", \"STAT_CAUSE_CODE\",\"LATITUDE\",\"LONGITUDE\",\"OWNER_CODE\",\"STATE\"]]\n",
    "X2 = wildfires[[\"FIRE_YEAR\", \"DISCOVERY_DOY\", \"STAT_CAUSE_CODE\",\"LATITUDE\",\"LONGITUDE\"]]\n",
    "y = wildfires[\"FIRE_SIZE\"]\n",
    "y2 = wildfires[\"FIRE_SIZE_CLASS\"]\n"
   ]
  },
  {
   "cell_type": "code",
   "execution_count": null,
   "metadata": {},
   "outputs": [],
   "source": []
  },
  {
   "cell_type": "code",
   "execution_count": 89,
   "metadata": {},
   "outputs": [],
   "source": [
    "from sklearn import svm\n",
    "from sklearn.model_selection import train_test_split\n",
    "import csv, json\n",
    "import pandas as pd\n",
    "# csv_name = \"dataf2.csv\"\n",
    "# col_list = [\"BIDR1\",\"WIDR1\",\"RR1\",\"BIDR2\",\"WIDR2\",\"RR2\",\"BIDR3\",\"WIDR3\",'RR3','BIDR4','WIDR4','RR4','BIDR5','WIDR5','RR5','BIDR6','WIDR6','RR6','BIDR7','WIDR7','RR7']\n",
    "# df = pd.read_csv(csv_name, usecols=col_list)\n",
    "datas = []\n",
    "# with open('data.csv', newline='') as csvfile:\n",
    "#     spamreader = csv.reader(csvfile, delimiter=',')\n",
    "#     for row in spamreader:\n",
    "#         temp = []\n",
    "#         for i in row:\n",
    "#             temp.append(float(i))\n",
    "#         datas.append(temp)\n",
    "\n",
    "\n",
    "X_train, X_test, y_train, y_test = train_test_split(X, y, test_size=0.05, random_state=1)\n",
    "X2_train, X2_test, y2_train, y2_test = train_test_split(X2, y2, test_size=0.05, random_state=1)\n",
    "\n",
    "\n",
    "\n"
   ]
  },
  {
   "cell_type": "code",
   "execution_count": 90,
   "metadata": {},
   "outputs": [],
   "source": [
    "# clf = svm.SVR()\n",
    "# clf.fit(X_train, y_train)"
   ]
  },
  {
   "cell_type": "code",
   "execution_count": 91,
   "metadata": {},
   "outputs": [],
   "source": [
    "from sklearn.metrics import mean_squared_error\n",
    "# print(\"Regression\")\n",
    "# yfit = clf.predict(X_test)\n",
    "# score = clf.score(X_test,y_test)\n",
    "# print(\"R-squared:\", score)\n",
    "# print(\"MSE:\", mean_squared_error(y_test, yfit))"
   ]
  },
  {
   "cell_type": "code",
   "execution_count": 92,
   "metadata": {},
   "outputs": [
    {
     "data": {
      "text/plain": [
       "SVC(C=1.0, break_ties=False, cache_size=200, class_weight=None, coef0=0.0,\n",
       "    decision_function_shape='ovr', degree=3, gamma='scale', kernel='rbf',\n",
       "    max_iter=-1, probability=False, random_state=None, shrinking=True,\n",
       "    tol=0.001, verbose=False)"
      ]
     },
     "execution_count": 92,
     "metadata": {},
     "output_type": "execute_result"
    }
   ],
   "source": [
    "clf2 = svm.SVC()\n",
    "clf2.fit(X2_train, y2_train)"
   ]
  },
  {
   "cell_type": "code",
   "execution_count": 93,
   "metadata": {},
   "outputs": [
    {
     "name": "stdout",
     "output_type": "stream",
     "text": [
      "--------------------------------------\n",
      "Classification\n",
      "R-squared: 0.4831325301204819\n",
      "MSE: 1.6385542168674698\n"
     ]
    }
   ],
   "source": [
    "print(\"--------------------------------------\")\n",
    "print(\"Classification\")\n",
    "y2fit = clf2.predict(X2_test)\n",
    "score2 = clf2.score(X2_test,y2_test)\n",
    "print(\"R-squared:\", score2)\n",
    "print(\"MSE:\", mean_squared_error(y2_test, y2fit))"
   ]
  },
  {
   "cell_type": "code",
   "execution_count": 108,
   "metadata": {},
   "outputs": [
    {
     "data": {
      "text/plain": [
       "SVC(C=1.0, break_ties=False, cache_size=200, class_weight=None, coef0=0.0,\n",
       "    decision_function_shape='ovr', degree=3, gamma='scale', kernel='rbf',\n",
       "    max_iter=-1, probability=False, random_state=None, shrinking=True,\n",
       "    tol=0.001, verbose=False)"
      ]
     },
     "execution_count": 108,
     "metadata": {},
     "output_type": "execute_result"
    }
   ],
   "source": [
    "clf2 = svm.SVC(kernel = \"rbf\")\n",
    "clf2.fit(X2_train, y2_train)"
   ]
  },
  {
   "cell_type": "code",
   "execution_count": 109,
   "metadata": {},
   "outputs": [
    {
     "name": "stdout",
     "output_type": "stream",
     "text": [
      "--------------------------------------\n",
      "Classification\n",
      "R-squared: 0.4831325301204819\n",
      "MSE: 1.6385542168674698\n"
     ]
    }
   ],
   "source": [
    "print(\"--------------------------------------\")\n",
    "print(\"Classification\")\n",
    "y2fit = clf2.predict(X2_test)\n",
    "score2 = clf2.score(X2_test,y2_test)\n",
    "print(\"R-squared:\", score2)\n",
    "print(\"MSE:\", mean_squared_error(y2_test, y2fit))"
   ]
  },
  {
   "cell_type": "code",
   "execution_count": 110,
   "metadata": {},
   "outputs": [
    {
     "name": "stdout",
     "output_type": "stream",
     "text": [
      "              precision    recall  f1-score   support\n",
      "\n",
      "           D       0.48      1.00      0.65      1203\n",
      "           E       0.00      0.00      0.00       691\n",
      "           F       0.00      0.00      0.00       395\n",
      "           G       0.00      0.00      0.00       201\n",
      "\n",
      "    accuracy                           0.48      2490\n",
      "   macro avg       0.12      0.25      0.16      2490\n",
      "weighted avg       0.23      0.48      0.31      2490\n",
      "\n"
     ]
    },
    {
     "name": "stderr",
     "output_type": "stream",
     "text": [
      "C:\\Users\\Sam\\anaconda3\\lib\\site-packages\\sklearn\\metrics\\_classification.py:1272: UndefinedMetricWarning: Precision and F-score are ill-defined and being set to 0.0 in labels with no predicted samples. Use `zero_division` parameter to control this behavior.\n",
      "  _warn_prf(average, modifier, msg_start, len(result))\n"
     ]
    }
   ],
   "source": [
    "from sklearn.metrics import classification_report\n",
    "print(classification_report(y2_test, y2fit, target_names=[\"D\",\"E\",\"F\",\"G\"]))"
   ]
  },
  {
   "cell_type": "code",
   "execution_count": 94,
   "metadata": {},
   "outputs": [],
   "source": [
    "# p = 0\n",
    "# f = 0\n",
    "# # print(clf.predict(X_test))\n",
    "# # print(y_test)\n",
    "# for i in range(0,len(y_test)):\n",
    "#     if int(y_test[i])*0.9 <= int(clf.predict(X_test)[i]) and int(y_test[i])*1.1 >= int(clf.predict(X_test)[i]) :\n",
    "#         p+=1\n",
    "#         print(\"p\")\n",
    "#     else:\n",
    "#         f+=1\n",
    "# print(p)\n",
    "# print(f)"
   ]
  },
  {
   "cell_type": "code",
   "execution_count": 95,
   "metadata": {},
   "outputs": [],
   "source": [
    "# from sklearn.metrics import mean_squared_error\n",
    "# print(\"Regression\")\n",
    "# yfit = clf.predict(X_test)\n",
    "# score = clf.score(X_test,y_test)\n",
    "# print(\"R-squared:\", score)\n",
    "# print(\"MSE:\", mean_squared_error(y_test, yfit))\n",
    "# print(\"--------------------------------------\")\n",
    "# print(\"Classification\")\n",
    "# y2fit = clf2.predict(X2_test)\n",
    "# score2 = clf2.score(X2_test,y2_test)\n",
    "# print(\"R-squared:\", score2)\n",
    "# print(\"MSE:\", mean_squared_error(y2_test, y2fit))"
   ]
  },
  {
   "cell_type": "code",
   "execution_count": 96,
   "metadata": {},
   "outputs": [],
   "source": [
    "# from sklearn.neural_network import MLPClassifier\n",
    "# nn = MLPClassifier(solver='lbfgs', alpha=1e-5, hidden_layer_sizes=(15,), random_state=1)\n",
    "# nn.fit(X2_train, y2_train)\n",
    "# ynnfit = nn.predict(X2_test)\n",
    "# score3 = nn.score(X2_test,y2_test)\n",
    "# print(\"R-squared:\", score3)\n",
    "# print(\"MSE:\", mean_squared_error(y2_test, ynnfit))"
   ]
  },
  {
   "cell_type": "code",
   "execution_count": 123,
   "metadata": {},
   "outputs": [],
   "source": [
    "wildfirestest = pd.read_sql_query(\"SELECT FIRE_SIZE_CLASS, COUNT(FIRE_SIZE_CLASS) from Fires where FIRE_SIZE > 100.0 GROUP BY FIRE_SIZE_CLASS\", con)"
   ]
  },
  {
   "cell_type": "code",
   "execution_count": 124,
   "metadata": {},
   "outputs": [
    {
     "name": "stdout",
     "output_type": "stream",
     "text": [
      "  FIRE_SIZE_CLASS  COUNT(FIRE_SIZE_CLASS)\n",
      "0               D                   24131\n",
      "1               E                   14107\n",
      "2               F                    7786\n",
      "3               G                    3773\n"
     ]
    }
   ],
   "source": [
    "print(wildfirestest)"
   ]
  },
  {
   "cell_type": "code",
   "execution_count": 115,
   "metadata": {},
   "outputs": [
    {
     "name": "stdout",
     "output_type": "stream",
     "text": [
      "SVC\n",
      "[[1. 0. 0. 0.]\n",
      " [1. 0. 0. 0.]\n",
      " [1. 0. 0. 0.]\n",
      " [1. 0. 0. 0.]]\n"
     ]
    },
    {
     "data": {
      "image/png": "[encoded data removed]",
      "text/plain": [
       "<Figure size 576x396 with 2 Axes>"
      ]
     },
     "metadata": {},
     "output_type": "display_data"
    }
   ],
   "source": [
    "from sklearn.metrics import plot_confusion_matrix\n",
    "disp = plot_confusion_matrix(clf2, X2_test, y2_test,\n",
    "                                 display_labels=[\"D\",\"E\",\"F\",\"G\"],\n",
    "                                 cmap=plt.cm.Blues,\n",
    "                                 normalize='true')\n",
    "disp.ax_.set_title(\"SVC\")\n",
    "\n",
    "print(\"SVC\")\n",
    "print(disp.confusion_matrix)\n",
    "\n",
    "plt.show()\n"
   ]
  },
  {
   "cell_type": "code",
   "execution_count": null,
   "metadata": {},
   "outputs": [],
   "source": []
  }
 ],
 "metadata": {
  "kernelspec": {
   "display_name": "Python 3",
   "language": "python",
   "name": "python3"
  },
  "language_info": {
   "codemirror_mode": {
    "name": "ipython",
    "version": 3
   },
   "file_extension": ".py",
   "mimetype": "text/x-python",
   "name": "python",
   "nbconvert_exporter": "python",
   "pygments_lexer": "ipython3",
   "version": "3.8.5"
  }
 },
 "nbformat": 4,
 "nbformat_minor": 4
}
